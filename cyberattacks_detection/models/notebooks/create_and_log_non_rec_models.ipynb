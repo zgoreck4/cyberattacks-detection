{
 "cells": [
  {
   "cell_type": "code",
   "execution_count": 1,
   "metadata": {},
   "outputs": [],
   "source": [
    "import sys\n",
    "import os\n",
    "\n",
    "project_root = os.path.abspath(os.path.join('..', '..', '..'))\n",
    "if project_root not in sys.path:\n",
    "    sys.path.append(project_root)"
   ]
  },
  {
   "cell_type": "code",
   "execution_count": 3,
   "metadata": {},
   "outputs": [
    {
     "name": "stderr",
     "output_type": "stream",
     "text": [
      "c:\\Users\\zgore\\anaconda3\\envs\\cyber-attk-p39\\lib\\site-packages\\mlflow\\pyfunc\\utils\\data_validation.py:103: FutureWarning: Model's `predict` method contains invalid parameters: {'X'}. Only the following parameter names are allowed: context, model_input, and params. Note that invalid parameters will no longer be permitted in future versions.\n",
      "  param_names = _check_func_signature(func, \"predict\")\n",
      "c:\\Users\\zgore\\anaconda3\\envs\\cyber-attk-p39\\lib\\site-packages\\mlflow\\pyfunc\\utils\\data_validation.py:134: UserWarning: \u001b[33mAdd type hints to the `predict` method to enable data validation and automatic signature inference during model logging. Check https://mlflow.org/docs/latest/model/python_model.html#type-hint-usage-in-pythonmodel for more details.\u001b[0m\n",
      "  color_warning(\n"
     ]
    }
   ],
   "source": [
    "from cyberattacks_detection.models import RBFNN, ELM, ModelWrapper, min_max_scale, reverse_min_max_scale\n",
    "from sklearn.linear_model import LinearRegression\n",
    "import pandas as pd\n",
    "import numpy as np\n",
    "import matplotlib.pyplot as plt\n",
    "from sklearn import metrics\n",
    "import re"
   ]
  },
  {
   "cell_type": "code",
   "execution_count": 4,
   "metadata": {},
   "outputs": [],
   "source": [
    "import mlflow\n",
    "from mlflow.models import infer_signature"
   ]
  },
  {
   "cell_type": "code",
   "execution_count": 5,
   "metadata": {},
   "outputs": [],
   "source": [
    "pd.set_option('display.max_colwidth', None)"
   ]
  },
  {
   "cell_type": "markdown",
   "metadata": {},
   "source": [
    "# Przygotowanie danych"
   ]
  },
  {
   "cell_type": "code",
   "execution_count": 6,
   "metadata": {},
   "outputs": [],
   "source": [
    "data_path = \"../../data/four_tanks/\""
   ]
  },
  {
   "cell_type": "code",
   "execution_count": 7,
   "metadata": {},
   "outputs": [],
   "source": [
    "# # dane bez zakłóceń\n",
    "# df_train = pd.read_csv(data_path+\"result_ol_without_noise_uczące_v3.csv\", sep=';', index_col=0)\n",
    "# df_val = pd.read_csv(data_path+\"result_ol_without_noise_walidacyjne_v3.csv\", sep=';', index_col=0)\n",
    "# df_test = pd.read_csv(data_path+\"result_ol_without_noise_testowe_v3.csv\", sep=';', index_col=0)\n",
    "# dataset_name = \"bez zakłóceń\""
   ]
  },
  {
   "cell_type": "code",
   "execution_count": 8,
   "metadata": {},
   "outputs": [],
   "source": [
    "# dane z zakłóceniami\n",
    "df_train = pd.read_csv(data_path+\"result_ol_with_noise_uczące_v5.csv\", sep=';', index_col=0)\n",
    "df_val = pd.read_csv(data_path+\"result_ol_with_noise_walidacyjne_v5.csv\", sep=';', index_col=0)\n",
    "df_test = pd.read_csv(data_path+\"result_ol_with_noise_testowe_v5.csv\", sep=';', index_col=0)\n",
    "dataset_name = \"z zakłóceniami\""
   ]
  },
  {
   "cell_type": "code",
   "execution_count": 9,
   "metadata": {},
   "outputs": [
    {
     "data": {
      "application/vnd.microsoft.datawrangler.viewer.v0+json": {
       "columns": [
        {
         "name": "index",
         "rawType": "int64",
         "type": "integer"
        },
        {
         "name": "q_A [cm^3/s]",
         "rawType": "float64",
         "type": "float"
        },
        {
         "name": "q_B [cm^3/s]",
         "rawType": "float64",
         "type": "float"
        },
        {
         "name": "q_d1 [cm^3/s]",
         "rawType": "float64",
         "type": "float"
        },
        {
         "name": "q_d2 [cm^3/s]",
         "rawType": "float64",
         "type": "float"
        },
        {
         "name": "q_d3 [cm^3/s]",
         "rawType": "float64",
         "type": "float"
        },
        {
         "name": "q_d4 [cm^3/s]",
         "rawType": "float64",
         "type": "float"
        },
        {
         "name": "x1 [cm]",
         "rawType": "float64",
         "type": "float"
        },
        {
         "name": "x2 [cm]",
         "rawType": "float64",
         "type": "float"
        },
        {
         "name": "x3 [cm]",
         "rawType": "float64",
         "type": "float"
        },
        {
         "name": "x4 [cm]",
         "rawType": "float64",
         "type": "float"
        }
       ],
       "ref": "9d58d465-db02-4dd6-b28f-9e12d53a3b3d",
       "rows": [
        [
         "0",
         "452.78",
         "555.56",
         "0.2646",
         "0.239",
         "0.3064",
         "0.2126",
         "65.0",
         "66.0",
         "65.0",
         "66.0"
        ],
        [
         "1",
         "452.78",
         "555.56",
         "0.06",
         "0.0853",
         "-0.1379",
         "0.0666",
         "65.0",
         "66.0",
         "65.0",
         "66.0"
        ],
        [
         "2",
         "452.78",
         "555.56",
         "0.1468",
         "-0.0172",
         "0.0172",
         "-0.0115",
         "65.0",
         "66.0",
         "65.0",
         "66.0"
        ],
        [
         "3",
         "452.78",
         "555.56",
         "0.3361",
         "0.0377",
         "-0.0206",
         "-0.1637",
         "65.0",
         "66.0",
         "65.0",
         "66.0"
        ],
        [
         "4",
         "452.78",
         "555.56",
         "0.2801",
         "-0.1816",
         "0.2048",
         "-0.0656",
         "65.32042596",
         "65.97500366",
         "65.01759755",
         "65.82893879"
        ]
       ],
       "shape": {
        "columns": 10,
        "rows": 5
       }
      },
      "text/html": [
       "<div>\n",
       "<style scoped>\n",
       "    .dataframe tbody tr th:only-of-type {\n",
       "        vertical-align: middle;\n",
       "    }\n",
       "\n",
       "    .dataframe tbody tr th {\n",
       "        vertical-align: top;\n",
       "    }\n",
       "\n",
       "    .dataframe thead th {\n",
       "        text-align: right;\n",
       "    }\n",
       "</style>\n",
       "<table border=\"1\" class=\"dataframe\">\n",
       "  <thead>\n",
       "    <tr style=\"text-align: right;\">\n",
       "      <th></th>\n",
       "      <th>q_A [cm^3/s]</th>\n",
       "      <th>q_B [cm^3/s]</th>\n",
       "      <th>q_d1 [cm^3/s]</th>\n",
       "      <th>q_d2 [cm^3/s]</th>\n",
       "      <th>q_d3 [cm^3/s]</th>\n",
       "      <th>q_d4 [cm^3/s]</th>\n",
       "      <th>x1 [cm]</th>\n",
       "      <th>x2 [cm]</th>\n",
       "      <th>x3 [cm]</th>\n",
       "      <th>x4 [cm]</th>\n",
       "    </tr>\n",
       "  </thead>\n",
       "  <tbody>\n",
       "    <tr>\n",
       "      <th>0</th>\n",
       "      <td>452.78</td>\n",
       "      <td>555.56</td>\n",
       "      <td>0.2646</td>\n",
       "      <td>0.2390</td>\n",
       "      <td>0.3064</td>\n",
       "      <td>0.2126</td>\n",
       "      <td>65.000000</td>\n",
       "      <td>66.000000</td>\n",
       "      <td>65.000000</td>\n",
       "      <td>66.000000</td>\n",
       "    </tr>\n",
       "    <tr>\n",
       "      <th>1</th>\n",
       "      <td>452.78</td>\n",
       "      <td>555.56</td>\n",
       "      <td>0.0600</td>\n",
       "      <td>0.0853</td>\n",
       "      <td>-0.1379</td>\n",
       "      <td>0.0666</td>\n",
       "      <td>65.000000</td>\n",
       "      <td>66.000000</td>\n",
       "      <td>65.000000</td>\n",
       "      <td>66.000000</td>\n",
       "    </tr>\n",
       "    <tr>\n",
       "      <th>2</th>\n",
       "      <td>452.78</td>\n",
       "      <td>555.56</td>\n",
       "      <td>0.1468</td>\n",
       "      <td>-0.0172</td>\n",
       "      <td>0.0172</td>\n",
       "      <td>-0.0115</td>\n",
       "      <td>65.000000</td>\n",
       "      <td>66.000000</td>\n",
       "      <td>65.000000</td>\n",
       "      <td>66.000000</td>\n",
       "    </tr>\n",
       "    <tr>\n",
       "      <th>3</th>\n",
       "      <td>452.78</td>\n",
       "      <td>555.56</td>\n",
       "      <td>0.3361</td>\n",
       "      <td>0.0377</td>\n",
       "      <td>-0.0206</td>\n",
       "      <td>-0.1637</td>\n",
       "      <td>65.000000</td>\n",
       "      <td>66.000000</td>\n",
       "      <td>65.000000</td>\n",
       "      <td>66.000000</td>\n",
       "    </tr>\n",
       "    <tr>\n",
       "      <th>4</th>\n",
       "      <td>452.78</td>\n",
       "      <td>555.56</td>\n",
       "      <td>0.2801</td>\n",
       "      <td>-0.1816</td>\n",
       "      <td>0.2048</td>\n",
       "      <td>-0.0656</td>\n",
       "      <td>65.320426</td>\n",
       "      <td>65.975004</td>\n",
       "      <td>65.017598</td>\n",
       "      <td>65.828939</td>\n",
       "    </tr>\n",
       "  </tbody>\n",
       "</table>\n",
       "</div>"
      ],
      "text/plain": [
       "   q_A [cm^3/s]  q_B [cm^3/s]  q_d1 [cm^3/s]  q_d2 [cm^3/s]  q_d3 [cm^3/s]  \\\n",
       "0        452.78        555.56         0.2646         0.2390         0.3064   \n",
       "1        452.78        555.56         0.0600         0.0853        -0.1379   \n",
       "2        452.78        555.56         0.1468        -0.0172         0.0172   \n",
       "3        452.78        555.56         0.3361         0.0377        -0.0206   \n",
       "4        452.78        555.56         0.2801        -0.1816         0.2048   \n",
       "\n",
       "   q_d4 [cm^3/s]    x1 [cm]    x2 [cm]    x3 [cm]    x4 [cm]  \n",
       "0         0.2126  65.000000  66.000000  65.000000  66.000000  \n",
       "1         0.0666  65.000000  66.000000  65.000000  66.000000  \n",
       "2        -0.0115  65.000000  66.000000  65.000000  66.000000  \n",
       "3        -0.1637  65.000000  66.000000  65.000000  66.000000  \n",
       "4        -0.0656  65.320426  65.975004  65.017598  65.828939  "
      ]
     },
     "execution_count": 9,
     "metadata": {},
     "output_type": "execute_result"
    }
   ],
   "source": [
    "df_train.head()"
   ]
  },
  {
   "cell_type": "code",
   "execution_count": 10,
   "metadata": {},
   "outputs": [],
   "source": [
    "def transform_column_name(df):\n",
    "    df.columns = [col[0] for col in df.columns.str.split()]\n",
    "    return df"
   ]
  },
  {
   "cell_type": "code",
   "execution_count": 11,
   "metadata": {},
   "outputs": [],
   "source": [
    "df_train = transform_column_name(df_train)\n",
    "df_val = transform_column_name(df_val)\n",
    "df_test = transform_column_name(df_test)"
   ]
  },
  {
   "cell_type": "code",
   "execution_count": 12,
   "metadata": {},
   "outputs": [],
   "source": [
    "qa_max = round(3260000/3600, 2)\n",
    "qa_min=0\n",
    "qb_max = round(4000000/3600)\n",
    "qb_min=0\n",
    "x_max = [136,\n",
    "         136,\n",
    "         130,\n",
    "         130]\n",
    "x_min = [20,\n",
    "         20,\n",
    "         20,\n",
    "         20]"
   ]
  },
  {
   "cell_type": "code",
   "execution_count": 13,
   "metadata": {},
   "outputs": [],
   "source": [
    "def add_delay(df, col, steps=1):    \n",
    "    df[col+f'(k-{steps})'] = df[col].shift(steps)\n",
    "    return df"
   ]
  },
  {
   "cell_type": "code",
   "execution_count": 14,
   "metadata": {},
   "outputs": [],
   "source": [
    "def add_delay_to_all_cols(df_train, df_val, df_test):\n",
    "    cols_delay = ['q_A', 'q_B', 'x1', 'x2', 'x3', 'x4']\n",
    "    for col in cols_delay:\n",
    "        for step in range(1, 5):\n",
    "            df_train = add_delay(df_train, col, step)\n",
    "            df_val = add_delay(df_val, col, step)\n",
    "            df_test = add_delay(df_test, col, step)\n",
    "    return df_train, df_val, df_test"
   ]
  },
  {
   "cell_type": "code",
   "execution_count": 15,
   "metadata": {},
   "outputs": [],
   "source": [
    "df_train, df_val, df_test = add_delay_to_all_cols(df_train, df_val, df_test)"
   ]
  },
  {
   "cell_type": "code",
   "execution_count": 16,
   "metadata": {},
   "outputs": [],
   "source": [
    "df_train.dropna(inplace=True)\n",
    "df_val.dropna(inplace=True)\n",
    "df_test.dropna(inplace=True)"
   ]
  },
  {
   "cell_type": "code",
   "execution_count": 17,
   "metadata": {},
   "outputs": [
    {
     "name": "stdout",
     "output_type": "stream",
     "text": [
      "Wymiar danych uczących: (2995, 34)\n",
      "Wymiar danych walidacyjnych: (995, 34)\n",
      "Wymiar danych testowych: (995, 34)\n"
     ]
    }
   ],
   "source": [
    "print(f\"Wymiar danych uczących: {df_train.shape}\")\n",
    "print(f\"Wymiar danych walidacyjnych: {df_val.shape}\")\n",
    "print(f\"Wymiar danych testowych: {df_test.shape}\")"
   ]
  },
  {
   "cell_type": "markdown",
   "metadata": {},
   "source": [
    "# Modelowanie"
   ]
  },
  {
   "cell_type": "code",
   "execution_count": 18,
   "metadata": {},
   "outputs": [],
   "source": [
    "mlflow.set_tracking_uri(\"http://localhost:5000\")"
   ]
  },
  {
   "cell_type": "code",
   "execution_count": 19,
   "metadata": {},
   "outputs": [],
   "source": [
    "# model_class_dict = {\"LR\": LinearRegression, \"ELM\": ELM, \"RBF\": RBFNN}\n",
    "# model_class_str = list(model_class_dict.keys())[0]"
   ]
  },
  {
   "cell_type": "code",
   "execution_count": 20,
   "metadata": {},
   "outputs": [],
   "source": [
    "y_names = ['x1', 'x2', 'x3', 'x4']"
   ]
  },
  {
   "cell_type": "code",
   "execution_count": 21,
   "metadata": {},
   "outputs": [],
   "source": [
    "model_type_dict = {'statespace': 'w przestrzeni stanu', 'io': 'wejście-wyjście'}"
   ]
  },
  {
   "cell_type": "code",
   "execution_count": 22,
   "metadata": {},
   "outputs": [],
   "source": [
    "def normalized_x_error(RMSE, y_name):\n",
    "    pattern = r'x(\\d+)'\n",
    "    idx = int(re.findall(pattern, y_name)[0]) - 1\n",
    "    return RMSE/(x_max[idx] - x_min[idx])"
   ]
  },
  {
   "cell_type": "code",
   "execution_count": 23,
   "metadata": {},
   "outputs": [],
   "source": [
    "def calc_NRMSE(df_train, df_val, df_test, y_name, y_pred_name):\n",
    "    RMSE_train = metrics.root_mean_squared_error(df_train[y_name], df_train[y_pred_name])\n",
    "    RMSE_val = metrics.root_mean_squared_error(df_val[y_name], df_val[y_pred_name])\n",
    "    RMSE_test = metrics.root_mean_squared_error(df_test[y_name], df_test[y_pred_name])\n",
    "    \n",
    "    NRMSE_train = round(normalized_x_error(RMSE_train, y_name), 4)\n",
    "    NRMSE_val = round(normalized_x_error(RMSE_val, y_name), 4)\n",
    "    NRMSE_test = round(normalized_x_error(RMSE_test, y_name), 4)\n",
    "\n",
    "    return NRMSE_train, NRMSE_val, NRMSE_test"
   ]
  },
  {
   "cell_type": "code",
   "execution_count": 24,
   "metadata": {},
   "outputs": [],
   "source": [
    "def calc_RMSE(df_train, df_val, df_test, y_name, y_pred_name):\n",
    "    RMSE_train = round(metrics.root_mean_squared_error(df_train[y_name], df_train[y_pred_name]), 4)\n",
    "    RMSE_val = round(metrics.root_mean_squared_error(df_val[y_name], df_val[y_pred_name]), 4)\n",
    "    RMSE_test = round(metrics.root_mean_squared_error(df_test[y_name], df_test[y_pred_name]), 4)\n",
    "\n",
    "    return RMSE_train, RMSE_val, RMSE_test"
   ]
  },
  {
   "cell_type": "code",
   "execution_count": 25,
   "metadata": {},
   "outputs": [],
   "source": [
    "def predict_recursion(df, model, features, y_name, order_dyn):\n",
    "    y_pred_list = np.empty(len(df))\n",
    "    start_idx = 0\n",
    "    if order_dyn == 1:\n",
    "        y_pred_list[0] = df[y_name].iloc[0]\n",
    "        start_idx = 1\n",
    "    elif order_dyn==2:\n",
    "        y_pred_list[0] = df[y_name].iloc[0]\n",
    "        y_pred_list[1] = df[y_name].iloc[1]\n",
    "        start_idx = 2\n",
    "    elif order_dyn==3:\n",
    "        y_pred_list[0] = df[y_name].iloc[0]\n",
    "        y_pred_list[1] = df[y_name].iloc[1]\n",
    "        y_pred_list[2] = df[y_name].iloc[2]\n",
    "        start_idx = 3\n",
    "    elif order_dyn==4:\n",
    "        y_pred_list[0] = df[y_name].iloc[0]\n",
    "        y_pred_list[1] = df[y_name].iloc[1]\n",
    "        y_pred_list[2] = df[y_name].iloc[2]\n",
    "        y_pred_list[3] = df[y_name].iloc[3]\n",
    "        start_idx = 4\n",
    "    for i in range(start_idx, len(df)):\n",
    "        features_val = df[features].iloc[i].copy()\n",
    "        # print(f'features_val:\\n{features_val}')\n",
    "        if order_dyn == 1:\n",
    "            features_val[f'{y_name}(k-1)'] = y_pred_list[i-1]\n",
    "        if order_dyn == 2:\n",
    "            features_val[f'{y_name}(k-1)'] = y_pred_list[i-1]\n",
    "            features_val[f'{y_name}(k-2)'] = y_pred_list[i-2]\n",
    "        if order_dyn == 3:\n",
    "            features_val[f'{y_name}(k-1)'] = y_pred_list[i-1]\n",
    "            features_val[f'{y_name}(k-2)'] = y_pred_list[i-2]\n",
    "            features_val[f'{y_name}(k-3)'] = y_pred_list[i-3]\n",
    "        if order_dyn == 4:\n",
    "            features_val[f'{y_name}(k-1)'] = y_pred_list[i-1]\n",
    "            features_val[f'{y_name}(k-2)'] = y_pred_list[i-2]\n",
    "            features_val[f'{y_name}(k-3)'] = y_pred_list[i-3]\n",
    "            features_val[f'{y_name}(k-4)'] = y_pred_list[i-4]\n",
    "        # print(f'features_val:\\n{features_val}')\n",
    "        try:\n",
    "            y_pred_list[i] = model.predict(pd.DataFrame(features_val).T).values.flatten()[0]\n",
    "        except:\n",
    "            y_pred_list[i] = model.predict(pd.DataFrame(features_val).T).flatten()[0]\n",
    "        # print(f'y_pred: {y_pred_list[i]}')\n",
    "    return y_pred_list"
   ]
  },
  {
   "cell_type": "code",
   "execution_count": null,
   "metadata": {},
   "outputs": [],
   "source": [
    "def train_and_evaluate_model(df_train,\n",
    "                        df_val,\n",
    "                        df_test,\n",
    "                        model_class_str,\n",
    "                        y_names,\n",
    "                        features_list,\n",
    "                        model_type,\n",
    "                        order_dyn,\n",
    "                        pred_mode='both',\n",
    "                        features_min_list=[None, None, None, None],\n",
    "                        features_max_list=[None, None, None, None],\n",
    "                        **kwargs):\n",
    "    # **kwargs = num_hidden_neurons=None, n_centers=None, alpha=None\n",
    "    for y_name, features, features_min, features_max in zip(y_names,\n",
    "                                                            features_list,\n",
    "                                                            features_min_list,\n",
    "                                                            features_max_list):\n",
    "        \n",
    "        print(y_name)\n",
    "\n",
    "        # mlflow.set_experiment(f\"four_tanks_{y_name.replace('x', 'h')}_v2\")\n",
    "        mlflow.set_experiment(f\"test_{y_name.replace('x', 'h')}_v2\")\n",
    "\n",
    "        if model_class_str == 'LR':\n",
    "            model = LinearRegression()\n",
    "            model.fit(df_train[features], df_train[[y_name]])\n",
    "\n",
    "        elif model_class_str == 'ELM':\n",
    "            num_features = len(features)\n",
    "            num_hidden_neurons = kwargs[\"num_hidden_neurons\"]\n",
    "            model = ELM(num_features, num_hidden_neurons)\n",
    "            pattern = r'x(\\d+)'\n",
    "            idx = int(re.findall(pattern, y_name)[0]) - 1\n",
    "            model.fit(df_train[features],\n",
    "                      df_train[[y_name]],\n",
    "                      features_min,\n",
    "                      features_max,\n",
    "                      x_min[idx],\n",
    "                      x_max[idx])\n",
    "            \n",
    "        elif model_class_str == 'RBF':\n",
    "            n_centers = kwargs[\"n_centers\"]\n",
    "            alpha = kwargs[\"alpha\"]\n",
    "            model = RBFNN(n_centers, alpha)\n",
    "            pattern = r'x(\\d+)'\n",
    "            idx = int(re.findall(pattern, y_name)[0]) - 1\n",
    "            iterations = kwargs[\"iterations\"]\n",
    "            patience = kwargs[\"patience\"]\n",
    "            it = model.fit(df_train[features],\n",
    "                      df_train[[y_name]],\n",
    "                      features_min,\n",
    "                      features_max,\n",
    "                      x_min[idx],\n",
    "                      x_max[idx],\n",
    "                      iterations=iterations,\n",
    "                      X_val=df_val[features],\n",
    "                      y_val=df_val[[y_name]],\n",
    "                      patience=patience,\n",
    "                      metric=metrics.mean_squared_error)\n",
    "            if it is not None:\n",
    "                kwargs[\"iterations_real\"] = it\n",
    "            else:\n",
    "                kwargs[\"iterations_real\"] = kwargs[\"iterations\"]\n",
    "\n",
    "        params = {\"model_class\": model_class_str,\n",
    "                  \"model_type\": model_type_dict[model_type],\n",
    "                  \"order_dyn\": order_dyn,\n",
    "                  \"y_name\": y_name+'(k)',\n",
    "                  \"features\": features} | kwargs\n",
    "        \n",
    "        pred_mode_tuple = (\"both\", \"not_recursion\", \"recursion\")\n",
    "        # TODO: sprawdzić jak zadziała w przypadku błędnej wartości\n",
    "        metrics_not_rec = {}\n",
    "        metrics_rec = {}\n",
    "        if pred_mode not in pred_mode_tuple:\n",
    "            raise ValueError(f\"Bad value for recursion_mode agument. Possible values: {pred_mode_tuple}\")\n",
    "        if pred_mode in (\"both\", \"not_recursion\"):\n",
    "            df_train[f'{y_name}_{model_type}_{order_dyn}_pred'] = model.predict(df_train[features])\n",
    "            df_val[f'{y_name}_{model_type}_{order_dyn}_pred'] = model.predict(df_val[features])\n",
    "            df_test[f'{y_name}_{model_type}_{order_dyn}_pred'] = model.predict(df_test[features])\n",
    "            RMSE_train, RMSE_val, RMSE_test = calc_RMSE(df_train,\n",
    "                                                        df_val,\n",
    "                                                        df_test,\n",
    "                                                        y_name,\n",
    "                                                        f'{y_name}_{model_type}_{order_dyn}_pred')\n",
    "            metrics_not_rec = {\"RMSE_train\": RMSE_train, \"RMSE_val\": RMSE_val, \"RMSE_test\": RMSE_test}\n",
    "            NRMSE_train, NRMSE_val, NRMSE_test = calc_NRMSE(df_train,\n",
    "                                                            df_val,\n",
    "                                                            df_test,\n",
    "                                                            y_name,\n",
    "                                                            f'{y_name}_{model_type}_{order_dyn}_pred')\n",
    "            metrics_norm_not_rec = {\"NRMSE_train\": NRMSE_train,\n",
    "                                    \"NRMSE_val\": NRMSE_val,\n",
    "                                    \"NRMSE_test\": NRMSE_test}\n",
    "        if pred_mode in (\"both\", \"recursion\"):\n",
    "            df_train[f'{y_name}_{model_type}_{order_dyn}_recursion_pred'] = predict_recursion(df_train, model, features, y_name, order_dyn)\n",
    "            df_val[f'{y_name}_{model_type}_{order_dyn}_recursion_pred'] = predict_recursion(df_val, model, features, y_name, order_dyn)\n",
    "            df_test[f'{y_name}_{model_type}_{order_dyn}_recursion_pred'] = predict_recursion(df_test, model, features, y_name, order_dyn)\n",
    "            RMSE_train, RMSE_val, RMSE_test = calc_RMSE(df_train, df_val, df_test, y_name, f'{y_name}_{model_type}_{order_dyn}_recursion_pred')\n",
    "            metrics_rec = {\"RMSE_train_recursion\": RMSE_train, \"RMSE_val_recursion\": RMSE_val, \"RMSE_test_recursion\": RMSE_test}\n",
    "            NRMSE_train, NRMSE_val, NRMSE_test = calc_NRMSE(df_train,\n",
    "                                                            df_val,\n",
    "                                                            df_test,\n",
    "                                                            y_name,\n",
    "                                                            f'{y_name}_{model_type}_{order_dyn}_recursion_pred')\n",
    "            metrics_norm_rec = {\"NRMSE_train_recursion\": NRMSE_train,\n",
    "                                \"NRMSE_val_recursion\": NRMSE_val,\n",
    "                                \"NRMSE_test_recursion\": NRMSE_test}\n",
    "\n",
    "        metrics_list = metrics_not_rec | metrics_norm_not_rec | metrics_rec | metrics_norm_rec\n",
    "        \n",
    "        with mlflow.start_run():\n",
    "            mlflow.log_params(params)\n",
    "            mlflow.log_metrics(metrics_list)\n",
    "\n",
    "            # Infer the model signature\n",
    "            signature = infer_signature(df_train[features], df_train[f'{y_name}_{model_type}_{order_dyn}_pred'])\n",
    "            # Log the model\n",
    "            if model_class_str == 'LR':\n",
    "                model_info = mlflow.sklearn.log_model(\n",
    "                sk_model=model,\n",
    "                artifact_path=model_class_str,\n",
    "                signature=signature,\n",
    "                input_example=df_train[features],\n",
    "                registered_model_name=f\"{model_class_str}_{model_type}_{order_dyn}_{y_name}\",\n",
    "            )\n",
    "            else:\n",
    "                model_info = mlflow.pyfunc.log_model(\n",
    "                    python_model=ModelWrapper(model),\n",
    "                    artifact_path=model_class_str,\n",
    "                    signature=signature,\n",
    "                    input_example=df_train[features],\n",
    "                    registered_model_name=f\"{model_class_str}_{model_type}_{order_dyn}_{y_name}\",\n",
    "                )\n",
    "\n",
    "    return df_train, df_val, df_test"
   ]
  },
  {
   "cell_type": "code",
   "execution_count": 27,
   "metadata": {},
   "outputs": [],
   "source": [
    "pred_mode = \"both\"\n",
    "model_class_list = [\"LR\", \"ELM\", \"RBF\"]"
   ]
  },
  {
   "cell_type": "markdown",
   "metadata": {},
   "source": [
    "## LinearRegression"
   ]
  },
  {
   "cell_type": "code",
   "execution_count": 28,
   "metadata": {},
   "outputs": [
    {
     "name": "stdout",
     "output_type": "stream",
     "text": [
      "LR\n"
     ]
    }
   ],
   "source": [
    "model_class_str = model_class_list[0]\n",
    "print(model_class_str)"
   ]
  },
  {
   "cell_type": "code",
   "execution_count": null,
   "metadata": {},
   "outputs": [
    {
     "name": "stdout",
     "output_type": "stream",
     "text": [
      "x1\n"
     ]
    },
    {
     "name": "stderr",
     "output_type": "stream",
     "text": [
      "c:\\Users\\zgore\\anaconda3\\envs\\cyber-attk-p39\\lib\\site-packages\\tqdm\\auto.py:21: TqdmWarning: IProgress not found. Please update jupyter and ipywidgets. See https://ipywidgets.readthedocs.io/en/stable/user_install.html\n",
      "  from .autonotebook import tqdm as notebook_tqdm\n",
      "Downloading artifacts: 100%|██████████| 7/7 [00:00<00:00, 2040.17it/s]\n",
      "Registered model 'LR_statespace_1_x1' already exists. Creating a new version of this model...\n",
      "2025/06/03 06:05:14 INFO mlflow.store.model_registry.abstract_store: Waiting up to 300 seconds for model version to finish creation. Model name: LR_statespace_1_x1, version 15\n",
      "Created version '15' of model 'LR_statespace_1_x1'.\n"
     ]
    },
    {
     "name": "stdout",
     "output_type": "stream",
     "text": [
      "🏃 View run enchanting-elk-857 at: http://localhost:5000/#/experiments/335176418275410378/runs/88369e7e7d824d8482acdec6848c33c8\n",
      "🧪 View experiment at: http://localhost:5000/#/experiments/335176418275410378\n",
      "x2\n"
     ]
    },
    {
     "name": "stderr",
     "output_type": "stream",
     "text": [
      "Downloading artifacts: 100%|██████████| 7/7 [00:00<00:00, 2178.05it/s]\n",
      "Registered model 'LR_statespace_1_x2' already exists. Creating a new version of this model...\n",
      "2025/06/03 06:05:26 INFO mlflow.store.model_registry.abstract_store: Waiting up to 300 seconds for model version to finish creation. Model name: LR_statespace_1_x2, version 13\n",
      "Created version '13' of model 'LR_statespace_1_x2'.\n"
     ]
    },
    {
     "name": "stdout",
     "output_type": "stream",
     "text": [
      "🏃 View run debonair-cat-632 at: http://localhost:5000/#/experiments/801974650724713131/runs/e01c41deeb864982a7b9b658f940f00e\n",
      "🧪 View experiment at: http://localhost:5000/#/experiments/801974650724713131\n",
      "x3\n"
     ]
    },
    {
     "name": "stderr",
     "output_type": "stream",
     "text": [
      "Downloading artifacts: 100%|██████████| 7/7 [00:00<00:00, 1601.84it/s]\n",
      "Registered model 'LR_statespace_1_x3' already exists. Creating a new version of this model...\n",
      "2025/06/03 06:05:38 INFO mlflow.store.model_registry.abstract_store: Waiting up to 300 seconds for model version to finish creation. Model name: LR_statespace_1_x3, version 11\n",
      "Created version '11' of model 'LR_statespace_1_x3'.\n"
     ]
    },
    {
     "name": "stdout",
     "output_type": "stream",
     "text": [
      "🏃 View run nebulous-stork-20 at: http://localhost:5000/#/experiments/852635572895522263/runs/0052072cb4cf4910a0916e5c018c7f3e\n",
      "🧪 View experiment at: http://localhost:5000/#/experiments/852635572895522263\n",
      "x4\n"
     ]
    },
    {
     "name": "stderr",
     "output_type": "stream",
     "text": [
      "Downloading artifacts: 100%|██████████| 7/7 [00:00<00:00, 2332.76it/s]\n",
      "Registered model 'LR_statespace_1_x4' already exists. Creating a new version of this model...\n",
      "2025/06/03 06:05:51 INFO mlflow.store.model_registry.abstract_store: Waiting up to 300 seconds for model version to finish creation. Model name: LR_statespace_1_x4, version 9\n"
     ]
    },
    {
     "name": "stdout",
     "output_type": "stream",
     "text": [
      "🏃 View run sedate-grouse-865 at: http://localhost:5000/#/experiments/793997268641947506/runs/1d12dfd7cca6410a86547eb117cd4729\n",
      "🧪 View experiment at: http://localhost:5000/#/experiments/793997268641947506\n"
     ]
    },
    {
     "name": "stderr",
     "output_type": "stream",
     "text": [
      "Created version '9' of model 'LR_statespace_1_x4'.\n"
     ]
    }
   ],
   "source": [
    "features_list = [['q_A(k-1)', 'q_B(k-1)', 'x2(k-1)', 'x3(k-1)', 'x4(k-1)', 'x1(k-1)'],\n",
    "                 ['q_A(k-1)', 'q_B(k-1)', 'x1(k-1)', 'x3(k-1)', 'x4(k-1)', 'x2(k-1)'],\n",
    "                 ['q_A(k-1)', 'q_B(k-1)', 'x1(k-1)', 'x2(k-1)', 'x4(k-1)', 'x3(k-1)'],\n",
    "                 ['q_A(k-1)', 'q_B(k-1)', 'x1(k-1)', 'x2(k-1)', 'x3(k-1)', 'x4(k-1)']]\n",
    "model_type = 'statespace'\n",
    "order_dyn = 1\n",
    "df_train, df_val, df_test = train_and_evaluate_model(df_train, df_val, df_test, model_class_str, y_names, features_list, model_type, order_dyn, pred_mode)"
   ]
  },
  {
   "cell_type": "code",
   "execution_count": null,
   "metadata": {},
   "outputs": [
    {
     "name": "stdout",
     "output_type": "stream",
     "text": [
      "x1\n"
     ]
    },
    {
     "name": "stderr",
     "output_type": "stream",
     "text": [
      "Downloading artifacts: 100%|██████████| 7/7 [00:00<00:00, 1747.52it/s]\n",
      "Registered model 'LR_io_1_x1' already exists. Creating a new version of this model...\n",
      "2025/06/03 06:06:03 INFO mlflow.store.model_registry.abstract_store: Waiting up to 300 seconds for model version to finish creation. Model name: LR_io_1_x1, version 6\n",
      "Created version '6' of model 'LR_io_1_x1'.\n"
     ]
    },
    {
     "name": "stdout",
     "output_type": "stream",
     "text": [
      "🏃 View run omniscient-asp-8 at: http://localhost:5000/#/experiments/335176418275410378/runs/fd572e1b0b9f40d38d2c8a8edd63a1e8\n",
      "🧪 View experiment at: http://localhost:5000/#/experiments/335176418275410378\n",
      "x2\n"
     ]
    },
    {
     "name": "stderr",
     "output_type": "stream",
     "text": [
      "Downloading artifacts: 100%|██████████| 7/7 [00:00<00:00, 1432.97it/s]\n",
      "Registered model 'LR_io_1_x2' already exists. Creating a new version of this model...\n",
      "2025/06/03 06:06:15 INFO mlflow.store.model_registry.abstract_store: Waiting up to 300 seconds for model version to finish creation. Model name: LR_io_1_x2, version 6\n",
      "Created version '6' of model 'LR_io_1_x2'.\n"
     ]
    },
    {
     "name": "stdout",
     "output_type": "stream",
     "text": [
      "🏃 View run gifted-fish-150 at: http://localhost:5000/#/experiments/801974650724713131/runs/cd52be164f75411e98fa6bc5c370b01d\n",
      "🧪 View experiment at: http://localhost:5000/#/experiments/801974650724713131\n",
      "x3\n"
     ]
    },
    {
     "name": "stderr",
     "output_type": "stream",
     "text": [
      "Downloading artifacts: 100%|██████████| 7/7 [00:00<00:00, 2237.30it/s]\n",
      "Registered model 'LR_io_1_x3' already exists. Creating a new version of this model...\n",
      "2025/06/03 06:06:27 INFO mlflow.store.model_registry.abstract_store: Waiting up to 300 seconds for model version to finish creation. Model name: LR_io_1_x3, version 6\n",
      "Created version '6' of model 'LR_io_1_x3'.\n"
     ]
    },
    {
     "name": "stdout",
     "output_type": "stream",
     "text": [
      "🏃 View run defiant-carp-45 at: http://localhost:5000/#/experiments/852635572895522263/runs/79da8f87bc1248f4aca8d1c8ce4283b1\n",
      "🧪 View experiment at: http://localhost:5000/#/experiments/852635572895522263\n",
      "x4\n"
     ]
    },
    {
     "name": "stderr",
     "output_type": "stream",
     "text": [
      "Downloading artifacts: 100%|██████████| 7/7 [00:00<00:00, 1877.49it/s]\n",
      "Registered model 'LR_io_1_x4' already exists. Creating a new version of this model...\n",
      "2025/06/03 06:06:39 INFO mlflow.store.model_registry.abstract_store: Waiting up to 300 seconds for model version to finish creation. Model name: LR_io_1_x4, version 6\n"
     ]
    },
    {
     "name": "stdout",
     "output_type": "stream",
     "text": [
      "🏃 View run marvelous-grub-346 at: http://localhost:5000/#/experiments/793997268641947506/runs/d6f61b1213644747969d12f8cd45e09b\n",
      "🧪 View experiment at: http://localhost:5000/#/experiments/793997268641947506\n"
     ]
    },
    {
     "name": "stderr",
     "output_type": "stream",
     "text": [
      "Created version '6' of model 'LR_io_1_x4'.\n"
     ]
    }
   ],
   "source": [
    "features_list = [['q_A(k-1)', 'q_B(k-1)', 'x1(k-1)'],\n",
    " ['q_A(k-1)', 'q_B(k-1)', 'x2(k-1)'],\n",
    " ['q_A(k-1)', 'q_B(k-1)', 'x3(k-1)'],\n",
    " ['q_A(k-1)', 'q_B(k-1)', 'x4(k-1)']]\n",
    "model_type = 'io'\n",
    "order_dyn = 1\n",
    "df_train, df_val, df_test = train_and_evaluate_model(df_train, df_val, df_test, model_class_str, y_names, features_list, model_type, order_dyn, pred_mode)"
   ]
  },
  {
   "cell_type": "code",
   "execution_count": null,
   "metadata": {},
   "outputs": [],
   "source": [
    "features_list = [['q_A(k-1)', 'q_B(k-1)', 'x1(k-1)', 'q_A(k-2)', 'q_B(k-2)', 'x1(k-2)'],\n",
    " ['q_A(k-1)', 'q_B(k-1)', 'x2(k-1)', 'q_A(k-2)', 'q_B(k-2)', 'x2(k-2)'],\n",
    " ['q_A(k-1)', 'q_B(k-1)', 'x3(k-1)', 'q_A(k-2)', 'q_B(k-2)', 'x3(k-2)'],\n",
    " ['q_A(k-1)', 'q_B(k-1)', 'x4(k-1)', 'q_A(k-2)', 'q_B(k-2)', 'x4(k-2)']]\n",
    "model_type = 'io'\n",
    "order_dyn = 2\n",
    "df_train, df_val, df_test = train_and_evaluate_model(df_train, df_val, df_test, model_class_str, y_names, features_list, model_type, order_dyn, pred_mode)"
   ]
  },
  {
   "cell_type": "code",
   "execution_count": null,
   "metadata": {},
   "outputs": [],
   "source": [
    "features_list = [['q_A(k-1)', 'q_B(k-1)', 'x1(k-1)', 'q_A(k-2)', 'q_B(k-2)', 'x1(k-2)', 'q_A(k-3)', 'q_B(k-3)', 'x1(k-3)'],\n",
    " ['q_A(k-1)', 'q_B(k-1)', 'x2(k-1)', 'q_A(k-2)', 'q_B(k-2)', 'x2(k-2)', 'q_A(k-3)', 'q_B(k-3)', 'x2(k-3)'],\n",
    " ['q_A(k-1)', 'q_B(k-1)', 'x3(k-1)', 'q_A(k-2)', 'q_B(k-2)', 'x3(k-2)', 'q_A(k-3)', 'q_B(k-3)', 'x3(k-3)'],\n",
    " ['q_A(k-1)', 'q_B(k-1)', 'x4(k-1)', 'q_A(k-2)', 'q_B(k-2)', 'x4(k-2)', 'q_A(k-3)', 'q_B(k-3)', 'x4(k-3)']]\n",
    "model_type = 'io'\n",
    "order_dyn = 3\n",
    "df_train, df_val, df_test = train_and_evaluate_model(df_train, df_val, df_test, model_class_str, y_names, features_list, model_type, order_dyn, pred_mode)"
   ]
  },
  {
   "cell_type": "code",
   "execution_count": null,
   "metadata": {},
   "outputs": [],
   "source": [
    "features_list = [['q_A(k-1)', 'q_B(k-1)', 'x1(k-1)', 'q_A(k-2)', 'q_B(k-2)', 'x1(k-2)', 'q_A(k-3)', 'q_B(k-3)', 'x1(k-3)', 'q_A(k-4)', 'q_B(k-4)', 'x1(k-4)'],\n",
    " ['q_A(k-1)', 'q_B(k-1)', 'x2(k-1)', 'q_A(k-2)', 'q_B(k-2)', 'x2(k-2)', 'q_A(k-3)', 'q_B(k-3)', 'x2(k-3)', 'q_A(k-4)', 'q_B(k-4)', 'x2(k-4)'],\n",
    " ['q_A(k-1)', 'q_B(k-1)', 'x3(k-1)', 'q_A(k-2)', 'q_B(k-2)', 'x3(k-2)', 'q_A(k-3)', 'q_B(k-3)', 'x3(k-3)', 'q_A(k-4)', 'q_B(k-4)', 'x3(k-4)'],\n",
    " ['q_A(k-1)', 'q_B(k-1)', 'x4(k-1)', 'q_A(k-2)', 'q_B(k-2)', 'x4(k-2)', 'q_A(k-3)', 'q_B(k-3)', 'x4(k-3)', 'q_A(k-4)', 'q_B(k-4)', 'x4(k-4)']]\n",
    "model_type = 'io'\n",
    "order_dyn = 4\n",
    "df_train, df_val, df_test = train_and_evaluate_model(df_train, df_val, df_test, model_class_str, y_names, features_list, model_type, order_dyn, pred_mode)"
   ]
  },
  {
   "cell_type": "markdown",
   "metadata": {},
   "source": [
    "## Extreme Learning Machine"
   ]
  },
  {
   "cell_type": "code",
   "execution_count": 31,
   "metadata": {},
   "outputs": [
    {
     "name": "stdout",
     "output_type": "stream",
     "text": [
      "ELM\n"
     ]
    }
   ],
   "source": [
    "model_class_str = model_class_list[1]\n",
    "print(model_class_str)"
   ]
  },
  {
   "cell_type": "code",
   "execution_count": 32,
   "metadata": {},
   "outputs": [],
   "source": [
    "num_hidden_neurons_list = [30, 40, 60, 80, 100, 120]"
   ]
  },
  {
   "cell_type": "code",
   "execution_count": 33,
   "metadata": {},
   "outputs": [],
   "source": [
    "y_names = ['x1', 'x2', 'x3', 'x4']"
   ]
  },
  {
   "cell_type": "code",
   "execution_count": null,
   "metadata": {},
   "outputs": [],
   "source": [
    "for num_hidden_neurons in num_hidden_neurons_list:\n",
    "    features_list = [['q_A(k-1)', 'q_B(k-1)', 'x2(k-1)', 'x3(k-1)', 'x4(k-1)', 'x1(k-1)'],\n",
    "                    ['q_A(k-1)', 'q_B(k-1)', 'x1(k-1)', 'x3(k-1)', 'x4(k-1)', 'x2(k-1)'],\n",
    "                    ['q_A(k-1)', 'q_B(k-1)', 'x1(k-1)', 'x2(k-1)', 'x4(k-1)', 'x3(k-1)'],\n",
    "                    ['q_A(k-1)', 'q_B(k-1)', 'x1(k-1)', 'x2(k-1)', 'x3(k-1)', 'x4(k-1)']]\n",
    "    features_min_list = np.array([[qa_min, qb_min, x_min[1], x_min[2], x_min[3], x_min[0]],\n",
    "                        [qa_min, qb_min, x_min[0], x_min[2], x_min[3], x_min[1]],\n",
    "                        [qa_min, qb_min, x_min[0], x_min[1], x_min[3], x_min[2]],\n",
    "                        [qa_min, qb_min, x_min[0], x_min[1], x_min[2], x_min[3]]])\n",
    "    features_max_list = np.array([[qa_max, qb_max, x_max[1], x_max[2], x_max[3], x_max[0]],\n",
    "                        [qa_max, qb_max, x_max[0], x_max[2], x_max[3], x_max[1]],\n",
    "                        [qa_max, qb_max, x_max[0], x_max[1], x_max[3], x_max[2]],\n",
    "                        [qa_max, qb_max, x_max[0], x_max[1], x_max[2], x_max[3]]])\n",
    "    model_type = 'statespace'\n",
    "    order_dyn = 1\n",
    "    df_train, df_val, df_test = train_and_evaluate_model(df_train,\n",
    "                                                    df_val,\n",
    "                                                    df_test,\n",
    "                                                    model_class_str,\n",
    "                                                    y_names,\n",
    "                                                    features_list,\n",
    "                                                    model_type,\n",
    "                                                    order_dyn,\n",
    "                                                    pred_mode,\n",
    "                                                    features_min_list=features_min_list,\n",
    "                                                    features_max_list=features_max_list,\n",
    "                                                    num_hidden_neurons = num_hidden_neurons)\n",
    "    \n",
    "    features_list = [['q_A(k-1)', 'q_B(k-1)', 'x1(k-1)'],\n",
    "    ['q_A(k-1)', 'q_B(k-1)', 'x2(k-1)'],\n",
    "    ['q_A(k-1)', 'q_B(k-1)', 'x3(k-1)'],\n",
    "    ['q_A(k-1)', 'q_B(k-1)', 'x4(k-1)']]\n",
    "    features_min_list = np.array([[qa_min, qb_min, x_min[0]],\n",
    "                        [qa_min, qb_min, x_min[1]],\n",
    "                        [qa_min, qb_min, x_min[2]],\n",
    "                        [qa_min, qb_min, x_min[3]]])\n",
    "    features_max_list = np.array([[qa_max, qb_max, x_max[0]],\n",
    "                        [qa_max, qb_max, x_max[1]],\n",
    "                        [qa_max, qb_max, x_max[2]],\n",
    "                        [qa_max, qb_max, x_max[3]]])\n",
    "    model_type = 'io'\n",
    "    order_dyn = 1\n",
    "    df_train, df_val, df_test = train_and_evaluate_model(df_train,\n",
    "                                                    df_val,\n",
    "                                                    df_test,\n",
    "                                                    model_class_str,\n",
    "                                                    y_names,\n",
    "                                                    features_list,\n",
    "                                                    model_type,\n",
    "                                                    order_dyn,\n",
    "                                                    pred_mode,\n",
    "                                                    features_min_list=features_min_list,\n",
    "                                                    features_max_list=features_max_list,\n",
    "                                                    num_hidden_neurons = num_hidden_neurons)\n",
    "    \n",
    "    features_list = [['q_A(k-1)', 'q_B(k-1)', 'x1(k-1)', 'q_A(k-2)', 'q_B(k-2)', 'x1(k-2)'],\n",
    "    ['q_A(k-1)', 'q_B(k-1)', 'x2(k-1)', 'q_A(k-2)', 'q_B(k-2)', 'x2(k-2)'],\n",
    "    ['q_A(k-1)', 'q_B(k-1)', 'x3(k-1)', 'q_A(k-2)', 'q_B(k-2)', 'x3(k-2)'],\n",
    "    ['q_A(k-1)', 'q_B(k-1)', 'x4(k-1)', 'q_A(k-2)', 'q_B(k-2)', 'x4(k-2)']]\n",
    "    features_min_list = np.array([[qa_min, qb_min, x_min[0], qa_min, qb_min, x_min[0]],\n",
    "                        [qa_min, qb_min, x_min[1], qa_min, qb_min, x_min[1]],\n",
    "                        [qa_min, qb_min, x_min[2], qa_min, qb_min, x_min[2]],\n",
    "                        [qa_min, qb_min, x_min[3], qa_min, qb_min, x_min[3]]])\n",
    "    features_max_list = np.array([[qa_max, qb_max, x_max[0], qa_max, qb_max, x_max[0]],\n",
    "                        [qa_max, qb_max, x_max[1], qa_max, qb_max, x_max[1]],\n",
    "                        [qa_max, qb_max, x_max[2], qa_max, qb_max, x_max[2]],\n",
    "                        [qa_max, qb_max, x_max[3], qa_max, qb_max, x_max[3]]])\n",
    "    model_type = 'io'\n",
    "    order_dyn = 2\n",
    "    df_train, df_val, df_test = train_and_evaluate_model(df_train,\n",
    "                                                    df_val,\n",
    "                                                    df_test,\n",
    "                                                    model_class_str,\n",
    "                                                    y_names,\n",
    "                                                    features_list,\n",
    "                                                    model_type,\n",
    "                                                    order_dyn,\n",
    "                                                    pred_mode,\n",
    "                                                    features_min_list=features_min_list,\n",
    "                                                    features_max_list=features_max_list,\n",
    "                                                    num_hidden_neurons = num_hidden_neurons)\n",
    "    \n",
    "    features_list = [['q_A(k-1)', 'q_B(k-1)', 'x1(k-1)', 'q_A(k-2)', 'q_B(k-2)', 'x1(k-2)', 'q_A(k-3)', 'q_B(k-3)', 'x1(k-3)'],\n",
    "    ['q_A(k-1)', 'q_B(k-1)', 'x2(k-1)', 'q_A(k-2)', 'q_B(k-2)', 'x2(k-2)', 'q_A(k-3)', 'q_B(k-3)', 'x2(k-3)'],\n",
    "    ['q_A(k-1)', 'q_B(k-1)', 'x3(k-1)', 'q_A(k-2)', 'q_B(k-2)', 'x3(k-2)', 'q_A(k-3)', 'q_B(k-3)', 'x3(k-3)'],\n",
    "    ['q_A(k-1)', 'q_B(k-1)', 'x4(k-1)', 'q_A(k-2)', 'q_B(k-2)', 'x4(k-2)', 'q_A(k-3)', 'q_B(k-3)', 'x4(k-3)']]\n",
    "    features_min_list = np.array([[qa_min, qb_min, x_min[0], qa_min, qb_min, x_min[0], qa_min, qb_min, x_min[0]],\n",
    "                        [qa_min, qb_min, x_min[1], qa_min, qb_min, x_min[1], qa_min, qb_min, x_min[1]],\n",
    "                        [qa_min, qb_min, x_min[2], qa_min, qb_min, x_min[2], qa_min, qb_min, x_min[2]],\n",
    "                        [qa_min, qb_min, x_min[3], qa_min, qb_min, x_min[3], qa_min, qb_min, x_min[3]]])\n",
    "    features_max_list = np.array([[qa_max, qb_max, x_max[0], qa_max, qb_max, x_max[0], qa_max, qb_max, x_max[0]],\n",
    "                        [qa_max, qb_max, x_max[1], qa_max, qb_max, x_max[1], qa_max, qb_max, x_max[1]],\n",
    "                        [qa_max, qb_max, x_max[2], qa_max, qb_max, x_max[2], qa_max, qb_max, x_max[2]],\n",
    "                        [qa_max, qb_max, x_max[3], qa_max, qb_max, x_max[3], qa_max, qb_max, x_max[3]]])\n",
    "    model_type = 'io'\n",
    "    order_dyn = 3\n",
    "    df_train, df_val, df_test = train_and_evaluate_model(df_train,\n",
    "                                                    df_val,\n",
    "                                                    df_test,\n",
    "                                                    model_class_str,\n",
    "                                                    y_names,\n",
    "                                                    features_list,\n",
    "                                                    model_type,\n",
    "                                                    order_dyn,\n",
    "                                                    pred_mode,\n",
    "                                                    features_min_list=features_min_list,\n",
    "                                                    features_max_list=features_max_list,\n",
    "                                                    num_hidden_neurons = num_hidden_neurons)"
   ]
  },
  {
   "cell_type": "markdown",
   "metadata": {},
   "source": [
    "## Radial Base Function Neural Network"
   ]
  },
  {
   "cell_type": "code",
   "execution_count": null,
   "metadata": {},
   "outputs": [],
   "source": [
    "model_class_str = model_class_list[2]\n",
    "print(model_class_str)"
   ]
  },
  {
   "cell_type": "code",
   "execution_count": null,
   "metadata": {},
   "outputs": [],
   "source": [
    "n_centers_list = [20, 25, 30, 35, 40]\n",
    "alpha = 0.01"
   ]
  },
  {
   "cell_type": "code",
   "execution_count": null,
   "metadata": {},
   "outputs": [],
   "source": [
    "y_names = ['x1', 'x2', 'x3', 'x4']"
   ]
  },
  {
   "cell_type": "code",
   "execution_count": null,
   "metadata": {},
   "outputs": [],
   "source": [
    "for n_centers in n_centers_list:\n",
    "    features_list = [['q_A(k-1)', 'q_B(k-1)', 'x2(k-1)', 'x3(k-1)', 'x4(k-1)', 'x1(k-1)'],\n",
    "                    ['q_A(k-1)', 'q_B(k-1)', 'x1(k-1)', 'x3(k-1)', 'x4(k-1)', 'x2(k-1)'],\n",
    "                    ['q_A(k-1)', 'q_B(k-1)', 'x1(k-1)', 'x2(k-1)', 'x4(k-1)', 'x3(k-1)'],\n",
    "                    ['q_A(k-1)', 'q_B(k-1)', 'x1(k-1)', 'x2(k-1)', 'x3(k-1)', 'x4(k-1)']]\n",
    "    features_min_list = np.array([[qa_min, qb_min, x_min[1], x_min[2], x_min[3], x_min[0]],\n",
    "                        [qa_min, qb_min, x_min[0], x_min[2], x_min[3], x_min[1]],\n",
    "                        [qa_min, qb_min, x_min[0], x_min[1], x_min[3], x_min[2]],\n",
    "                        [qa_min, qb_min, x_min[0], x_min[1], x_min[2], x_min[3]]])\n",
    "    features_max_list = np.array([[qa_max, qb_max, x_max[1], x_max[2], x_max[3], x_max[0]],\n",
    "                        [qa_max, qb_max, x_max[0], x_max[2], x_max[3], x_max[1]],\n",
    "                        [qa_max, qb_max, x_max[0], x_max[1], x_max[3], x_max[2]],\n",
    "                        [qa_max, qb_max, x_max[0], x_max[1], x_max[2], x_max[3]]])\n",
    "    model_type = 'statespace'\n",
    "    order_dyn = 1\n",
    "    df_train, df_val, df_test = train_and_evaluate_model(df_train,\n",
    "                                                    df_val,\n",
    "                                                    df_test,\n",
    "                                                    model_class_str,\n",
    "                                                    y_names,\n",
    "                                                    features_list,\n",
    "                                                    model_type,\n",
    "                                                    order_dyn,\n",
    "                                                    pred_mode,\n",
    "                                                    features_min_list=features_min_list,\n",
    "                                                    features_max_list=features_max_list,\n",
    "                                                    n_centers=n_centers,\n",
    "                                                    alpha=alpha,\n",
    "                                                    iterations=300,\n",
    "                                                    patience=100)\n",
    "    \n",
    "    features_list = [['q_A(k-1)', 'q_B(k-1)', 'x1(k-1)'],\n",
    "    ['q_A(k-1)', 'q_B(k-1)', 'x2(k-1)'],\n",
    "    ['q_A(k-1)', 'q_B(k-1)', 'x3(k-1)'],\n",
    "    ['q_A(k-1)', 'q_B(k-1)', 'x4(k-1)']]\n",
    "    features_min_list = np.array([[qa_min, qb_min, x_min[0]],\n",
    "                        [qa_min, qb_min, x_min[1]],\n",
    "                        [qa_min, qb_min, x_min[2]],\n",
    "                        [qa_min, qb_min, x_min[3]]])\n",
    "    features_max_list = np.array([[qa_max, qb_max, x_max[0]],\n",
    "                        [qa_max, qb_max, x_max[1]],\n",
    "                        [qa_max, qb_max, x_max[2]],\n",
    "                        [qa_max, qb_max, x_max[3]]])\n",
    "    model_type = 'io'\n",
    "    order_dyn = 1\n",
    "    df_train, df_val, df_test = train_and_evaluate_model(df_train,\n",
    "                                                    df_val,\n",
    "                                                    df_test,\n",
    "                                                    model_class_str,\n",
    "                                                    y_names,\n",
    "                                                    features_list,\n",
    "                                                    model_type,\n",
    "                                                    order_dyn,\n",
    "                                                    pred_mode,\n",
    "                                                    features_min_list=features_min_list,\n",
    "                                                    features_max_list=features_max_list,\n",
    "                                                    n_centers=n_centers,\n",
    "                                                    alpha=alpha,\n",
    "                                                    iterations=300,\n",
    "                                                    patience=100)\n",
    "    \n",
    "    features_list = [['q_A(k-1)', 'q_B(k-1)', 'x1(k-1)', 'q_A(k-2)', 'q_B(k-2)', 'x1(k-2)'],\n",
    "    ['q_A(k-1)', 'q_B(k-1)', 'x2(k-1)', 'q_A(k-2)', 'q_B(k-2)', 'x2(k-2)'],\n",
    "    ['q_A(k-1)', 'q_B(k-1)', 'x3(k-1)', 'q_A(k-2)', 'q_B(k-2)', 'x3(k-2)'],\n",
    "    ['q_A(k-1)', 'q_B(k-1)', 'x4(k-1)', 'q_A(k-2)', 'q_B(k-2)', 'x4(k-2)']]\n",
    "    features_min_list = np.array([[qa_min, qb_min, x_min[0], qa_min, qb_min, x_min[0]],\n",
    "                        [qa_min, qb_min, x_min[1], qa_min, qb_min, x_min[1]],\n",
    "                        [qa_min, qb_min, x_min[2], qa_min, qb_min, x_min[2]],\n",
    "                        [qa_min, qb_min, x_min[3], qa_min, qb_min, x_min[3]]])\n",
    "    features_max_list = np.array([[qa_max, qb_max, x_max[0], qa_max, qb_max, x_max[0]],\n",
    "                        [qa_max, qb_max, x_max[1], qa_max, qb_max, x_max[1]],\n",
    "                        [qa_max, qb_max, x_max[2], qa_max, qb_max, x_max[2]],\n",
    "                        [qa_max, qb_max, x_max[3], qa_max, qb_max, x_max[3]]])\n",
    "    model_type = 'io'\n",
    "    order_dyn = 2\n",
    "    df_train, df_val, df_test = train_and_evaluate_model(df_train,\n",
    "                                                    df_val,\n",
    "                                                    df_test,\n",
    "                                                    model_class_str,\n",
    "                                                    y_names,\n",
    "                                                    features_list,\n",
    "                                                    model_type,\n",
    "                                                    order_dyn,\n",
    "                                                    pred_mode,\n",
    "                                                    features_min_list=features_min_list,\n",
    "                                                    features_max_list=features_max_list,\n",
    "                                                    n_centers=n_centers,\n",
    "                                                    alpha=alpha,\n",
    "                                                    iterations=300,\n",
    "                                                    patience=100)\n",
    "\n",
    "    features_list = [['q_A(k-1)', 'q_B(k-1)', 'x1(k-1)', 'q_A(k-2)', 'q_B(k-2)', 'x1(k-2)', 'q_A(k-3)', 'q_B(k-3)', 'x1(k-3)'],\n",
    "    ['q_A(k-1)', 'q_B(k-1)', 'x2(k-1)', 'q_A(k-2)', 'q_B(k-2)', 'x2(k-2)', 'q_A(k-3)', 'q_B(k-3)', 'x2(k-3)'],\n",
    "    ['q_A(k-1)', 'q_B(k-1)', 'x3(k-1)', 'q_A(k-2)', 'q_B(k-2)', 'x3(k-2)', 'q_A(k-3)', 'q_B(k-3)', 'x3(k-3)'],\n",
    "    ['q_A(k-1)', 'q_B(k-1)', 'x4(k-1)', 'q_A(k-2)', 'q_B(k-2)', 'x4(k-2)', 'q_A(k-3)', 'q_B(k-3)', 'x4(k-3)']]\n",
    "    features_min_list = np.array([[qa_min, qb_min, x_min[0], qa_min, qb_min, x_min[0], qa_min, qb_min, x_min[0]],\n",
    "                        [qa_min, qb_min, x_min[1], qa_min, qb_min, x_min[1], qa_min, qb_min, x_min[1]],\n",
    "                        [qa_min, qb_min, x_min[2], qa_min, qb_min, x_min[2], qa_min, qb_min, x_min[2]],\n",
    "                        [qa_min, qb_min, x_min[3], qa_min, qb_min, x_min[3], qa_min, qb_min, x_min[3]]])\n",
    "    features_max_list = np.array([[qa_max, qb_max, x_max[0], qa_max, qb_max, x_max[0], qa_max, qb_max, x_max[0]],\n",
    "                        [qa_max, qb_max, x_max[1], qa_max, qb_max, x_max[1], qa_max, qb_max, x_max[1]],\n",
    "                        [qa_max, qb_max, x_max[2], qa_max, qb_max, x_max[2], qa_max, qb_max, x_max[2]],\n",
    "                        [qa_max, qb_max, x_max[3], qa_max, qb_max, x_max[3], qa_max, qb_max, x_max[3]]])\n",
    "    model_type = 'io'\n",
    "    order_dyn = 3\n",
    "    df_train, df_val, df_test = train_and_evaluate_model(df_train,\n",
    "                                                    df_val,\n",
    "                                                    df_test,\n",
    "                                                    model_class_str,\n",
    "                                                    y_names,\n",
    "                                                    features_list,\n",
    "                                                    model_type,\n",
    "                                                    order_dyn,\n",
    "                                                    pred_mode,\n",
    "                                                    features_min_list=features_min_list,\n",
    "                                                    features_max_list=features_max_list,\n",
    "                                                    n_centers=n_centers,\n",
    "                                                    alpha=alpha,\n",
    "                                                    iterations=300,\n",
    "                                                    patience=100)"
   ]
  }
 ],
 "metadata": {
  "kernelspec": {
   "display_name": "cyber-attk-p39",
   "language": "python",
   "name": "python3"
  },
  "language_info": {
   "codemirror_mode": {
    "name": "ipython",
    "version": 3
   },
   "file_extension": ".py",
   "mimetype": "text/x-python",
   "name": "python",
   "nbconvert_exporter": "python",
   "pygments_lexer": "ipython3",
   "version": "3.9.21"
  }
 },
 "nbformat": 4,
 "nbformat_minor": 2
}
