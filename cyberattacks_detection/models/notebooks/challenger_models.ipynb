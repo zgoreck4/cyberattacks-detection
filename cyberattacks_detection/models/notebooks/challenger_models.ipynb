{
 "cells": [
  {
   "cell_type": "code",
   "execution_count": null,
   "metadata": {},
   "outputs": [],
   "source": [
    "import sys\n",
    "import os\n",
    "\n",
    "project_root = os.path.abspath(os.path.join('..', '..', '..'))\n",
    "if project_root not in sys.path:\n",
    "    sys.path.append(project_root)\n",
    "\n",
    "from cyberattacks_detection.models import RBFNN, ELM, ModelWrapper, min_max_scale, reverse_min_max_scale, MinMaxScalerLayer, create_rnn_input, predict_recursion, create_gru_model\n",
    "from sklearn.linear_model import LinearRegression\n",
    "import mlflow\n",
    "import pickle\n",
    "import pandas as pd\n",
    "import re\n",
    "from sklearn import metrics\n",
    "import matplotlib.pyplot as plt\n",
    "import numpy as np\n",
    "import keras"
   ]
  },
  {
   "cell_type": "code",
   "execution_count": null,
   "metadata": {},
   "outputs": [],
   "source": [
    "mlflow.set_tracking_uri(\"http://localhost:5000\")"
   ]
  },
  {
   "cell_type": "code",
   "execution_count": null,
   "metadata": {},
   "outputs": [],
   "source": [
    "save_mode = False"
   ]
  },
  {
   "cell_type": "code",
   "execution_count": null,
   "metadata": {},
   "outputs": [],
   "source": [
    "model_path = \"../../saved_models/\""
   ]
  },
  {
   "cell_type": "markdown",
   "metadata": {},
   "source": [
    "# Load and save"
   ]
  },
  {
   "cell_type": "markdown",
   "metadata": {},
   "source": [
    "## LR"
   ]
  },
  {
   "cell_type": "code",
   "execution_count": null,
   "metadata": {},
   "outputs": [],
   "source": [
    "lr1 = mlflow.sklearn.load_model(\"runs:/40fd937e12c944f7a8f73bfdac4fb211/LR\")\n",
    "lr2 = mlflow.sklearn.load_model(\"runs:/a785405966314d1ea144b8f7cf93aa2b/LR\")\n",
    "lr3 = mlflow.sklearn.load_model(\"runs:/e64ab1056f4042b08dc1f81c3f22715a/LR\")\n",
    "lr4 = mlflow.sklearn.load_model(\"runs:/a413b8236b92444983890491c3ff27e3/LR\")"
   ]
  },
  {
   "cell_type": "code",
   "execution_count": null,
   "metadata": {},
   "outputs": [],
   "source": [
    "if save_mode:\n",
    "    pickle.dump(lr1, open(os.path.join(model_path, \"lr_x1.sav\"), 'wb'))\n",
    "    pickle.dump(lr2, open(os.path.join(model_path, \"lr_x2.sav\"), 'wb'))\n",
    "    pickle.dump(lr3, open(os.path.join(model_path, \"lr_x3.sav\"), 'wb'))\n",
    "    pickle.dump(lr4, open(os.path.join(model_path, \"lr_x4.sav\"), 'wb'))"
   ]
  },
  {
   "cell_type": "markdown",
   "metadata": {},
   "source": [
    "## RBFNN"
   ]
  },
  {
   "cell_type": "code",
   "execution_count": null,
   "metadata": {},
   "outputs": [],
   "source": [
    "# rbf_nn1 = mlflow.pyfunc.load_model(\"runs:/8181d8d7493e413f8d0df5b88f96502d/RBF\")\n",
    "rbf_nn1 = mlflow.pyfunc.load_model(\"runs:/a828580a01cc434a806d8ae93b51143b/RBF\")\n",
    "rbf_nn1 = rbf_nn1.unwrap_python_model().model\n",
    "rbf_nn2 = mlflow.pyfunc.load_model(\"runs:/a95648a9f4c8407da7caa82426cae0df/RBF\")\n",
    "rbf_nn2 = rbf_nn2.unwrap_python_model().model\n",
    "rbf_nn3 = mlflow.pyfunc.load_model(\"runs:/42868971cfc34849909b3cbe0d376b60/RBF\")\n",
    "rbf_nn3 = rbf_nn3.unwrap_python_model().model\n",
    "rbf_nn4 = mlflow.pyfunc.load_model(\"runs:/8127a9860d95434cbfce0873f5fcc6ee/RBF\")\n",
    "rbf_nn4 = rbf_nn4.unwrap_python_model().model"
   ]
  },
  {
   "cell_type": "code",
   "execution_count": null,
   "metadata": {},
   "outputs": [],
   "source": [
    "print(rbf_nn1.feature_names_in_)\n",
    "print(rbf_nn2.feature_names_in_)\n",
    "print(rbf_nn3.feature_names_in_)\n",
    "print(rbf_nn4.feature_names_in_)"
   ]
  },
  {
   "cell_type": "code",
   "execution_count": null,
   "metadata": {},
   "outputs": [],
   "source": [
    "if save_mode: \n",
    "    rbf_nn1.save_model(os.path.join(model_path, \"rbf_x1.npz\"))\n",
    "    rbf_nn2.save_model(os.path.join(model_path, \"rbf_x2.npz\"))\n",
    "    rbf_nn3.save_model(os.path.join(model_path, \"rbf_x3.npz\"))\n",
    "    rbf_nn4.save_model(os.path.join(model_path, \"rbf_x4.npz\"))\n",
    "    print(\"saved all models\")"
   ]
  },
  {
   "cell_type": "markdown",
   "metadata": {},
   "source": [
    "## ELM"
   ]
  },
  {
   "cell_type": "code",
   "execution_count": null,
   "metadata": {},
   "outputs": [],
   "source": [
    "elm1 = mlflow.pyfunc.load_model(\"runs:/dcfabfbdc2484d139dcb02f0690792ac/ELM\")\n",
    "elm1 = elm1.unwrap_python_model().model\n",
    "elm2 = mlflow.pyfunc.load_model(\"runs:/605ef680209641d481d8efa4e5dac967/ELM\")\n",
    "elm2 = elm2.unwrap_python_model().model\n",
    "elm3 = mlflow.pyfunc.load_model(\"runs:/2869d86018284fc3a9f7672a4a617eb3/ELM\")\n",
    "elm3 = elm3.unwrap_python_model().model\n",
    "elm4 = mlflow.pyfunc.load_model(\"runs:/31910ec846ee4f058995e18ca5b410bd/ELM\")\n",
    "elm4 = elm4.unwrap_python_model().model"
   ]
  },
  {
   "cell_type": "code",
   "execution_count": null,
   "metadata": {},
   "outputs": [],
   "source": [
    "print(elm1.feature_names_in_)\n",
    "print(elm2.feature_names_in_)\n",
    "print(elm3.feature_names_in_)\n",
    "print(elm4.feature_names_in_)"
   ]
  },
  {
   "cell_type": "code",
   "execution_count": null,
   "metadata": {},
   "outputs": [],
   "source": [
    "if save_mode:\n",
    "    elm1.save_model(os.path.join(model_path, \"elm_x1.npz\"))\n",
    "    elm2.save_model(os.path.join(model_path, \"elm_x2.npz\"))\n",
    "    elm3.save_model(os.path.join(model_path, \"elm_x3.npz\"))\n",
    "    elm4.save_model(os.path.join(model_path, \"elm_x4.npz\"))"
   ]
  },
  {
   "cell_type": "markdown",
   "metadata": {},
   "source": [
    "## LSTM"
   ]
  },
  {
   "cell_type": "code",
   "execution_count": null,
   "metadata": {},
   "outputs": [],
   "source": [
    "lstm1 = mlflow.keras.load_model(\"runs:/3d0c7b11b39c44f895e5fc09701e3112/LSTM\")\n",
    "lstm2 = mlflow.keras.load_model(\"runs:/af759907803e44f3abb1a6cde08859d7/LSTM\")\n",
    "lstm3 = mlflow.keras.load_model(\"runs:/2827cf6b657249b8974df0900f7c3c84/LSTM\")\n",
    "lstm4 = mlflow.keras.load_model(\"runs:/c993058ae47d46af8ac1c5213575651c/LSTM\")"
   ]
  },
  {
   "cell_type": "code",
   "execution_count": null,
   "metadata": {},
   "outputs": [],
   "source": [
    "if save_mode:\n",
    "    lstm1.save(os.path.join(model_path, \"lstm_x1_statespace.keras\"))\n",
    "    lstm2.save(os.path.join(model_path, \"lstm_x2_statespace.keras\"))\n",
    "    lstm3.save(os.path.join(model_path, \"lstm_x3.keras\"))\n",
    "    lstm4.save(os.path.join(model_path, \"lstm_x4.keras\"))\n",
    "    print(\"saved\")"
   ]
  },
  {
   "cell_type": "markdown",
   "metadata": {},
   "source": [
    "## GRU"
   ]
  },
  {
   "cell_type": "code",
   "execution_count": null,
   "metadata": {},
   "outputs": [],
   "source": [
    "gru1 = mlflow.keras.load_model(\"runs:/4d4c93584c4d4d8bb0de82a167cf74b9/GRU\")\n",
    "gru2 = mlflow.keras.load_model(\"runs:/11129550ae984580b8db63ae322ee995/GRU\")\n",
    "gru3 = mlflow.keras.load_model(\"runs:/790de009723f4fe7a45b7a5d6dc10a58/GRU\")\n",
    "gru4 = mlflow.keras.load_model(\"runs:/6056c8a521044ad5916463fe63197903/GRU\")"
   ]
  },
  {
   "cell_type": "code",
   "execution_count": null,
   "metadata": {},
   "outputs": [],
   "source": [
    "if save_mode:\n",
    "    gru1.save(os.path.join(model_path, \"gru_x1_statespace.keras\"))\n",
    "    gru2.save(os.path.join(model_path, \"gru_x2_statespace.keras\"))\n",
    "    gru3.save(os.path.join(model_path, \"gru_x3.keras\"))\n",
    "    gru4.save(os.path.join(model_path, \"gru_x4.keras\"))\n",
    "    print(\"saved\")"
   ]
  },
  {
   "cell_type": "code",
   "execution_count": null,
   "metadata": {},
   "outputs": [],
   "source": [
    "gru1 = mlflow.keras.load_model(\"runs:/8970732583c94ea0a93231465fe82b92/GRU\")\n",
    "gru2 = mlflow.keras.load_model(\"runs:/af0a69cf06644c60a94baf3058d234be/GRU\") \n",
    "# gru3 = mlflow.keras.load_model(\"runs:/76e19706a80b47edbebaff55f20228b5/GRU\")\n",
    "# gru4 = mlflow.keras.load_model(\"runs:/c993058ae47d46af8ac1c5213575651c/GRU\")"
   ]
  },
  {
   "cell_type": "code",
   "execution_count": null,
   "metadata": {},
   "outputs": [],
   "source": [
    "if save_mode:\n",
    "    gru1.save(os.path.join(model_path, \"gru_x1_io.keras\"))\n",
    "    gru2.save(os.path.join(model_path, \"gru_x2_io.keras\")) \n",
    "    # gru3.save(os.path.join(model_path, \"gru_x3.keras\"))\n",
    "    # gru4.save(os.path.join(model_path, \"gru_x4.keras\"))\n",
    "    print(\"saved\")"
   ]
  },
  {
   "cell_type": "code",
   "execution_count": null,
   "metadata": {},
   "outputs": [],
   "source": [
    "gru1 = mlflow.keras.load_model(\"runs:/8c02ff4f882849459a1aee77cd551a12/GRU\")\n",
    "# gru2 = mlflow.keras.load_model(\"runs:/af759907803e44f3abb1a6cde08859d7/GRU\")\n",
    "gru3 = mlflow.keras.load_model(\"runs:/b14c18bad61f46a49a52fc412d005949/GRU\")\n",
    "# gru4 = mlflow.keras.load_model(\"runs:/c993058ae47d46af8ac1c5213575651c/GRU\")"
   ]
  },
  {
   "cell_type": "code",
   "execution_count": null,
   "metadata": {},
   "outputs": [],
   "source": [
    "if save_mode:\n",
    "    gru1.save(os.path.join(model_path, \"gru_x1_io_v2.keras\"))\n",
    "    # gru2.save(os.path.join(model_path, \"gru_x2.keras\"))\n",
    "    gru3.save(os.path.join(model_path, \"gru_x3_v2.keras\"))\n",
    "    # gru4.save(os.path.join(model_path, \"gru_x4.keras\"))\n",
    "    print(\"saved\")"
   ]
  },
  {
   "cell_type": "markdown",
   "metadata": {},
   "source": [
    "## LSTM-MLP"
   ]
  },
  {
   "cell_type": "code",
   "execution_count": null,
   "metadata": {},
   "outputs": [],
   "source": [
    "lstm_mlp1 = mlflow.keras.load_model(\"runs:/cb489d0e5e244b81a3bf8d33aae3698b/LSTM-MLP\")\n",
    "lstm_mlp2 = mlflow.keras.load_model(\"runs:/5de4eb73ca6b49faae9191f3590cea4a/LSTM-MLP\")\n",
    "lstm_mlp3 = mlflow.keras.load_model(\"runs:/27b8cba700f8462680f3f94b846634de/LSTM-MLP\")\n",
    "lstm_mlp4 = mlflow.keras.load_model(\"runs:/066695261a8348f09c553c9e69d9552b/LSTM-MLP\")"
   ]
  },
  {
   "cell_type": "code",
   "execution_count": null,
   "metadata": {},
   "outputs": [],
   "source": [
    "if save_mode:\n",
    "    lstm_mlp1.save(os.path.join(model_path, \"lstm_mlp_x1_statespace.keras\"))\n",
    "    lstm_mlp2.save(os.path.join(model_path, \"lstm_mlp_x2_statespace.keras\"))\n",
    "    lstm_mlp3.save(os.path.join(model_path, \"lstm_mlp_x3.keras\"))\n",
    "    lstm_mlp4.save(os.path.join(model_path, \"lstm_mlp_x4.keras\"))\n",
    "    print(\"saved\")"
   ]
  },
  {
   "cell_type": "markdown",
   "metadata": {},
   "source": [
    "# GRU-MLP"
   ]
  },
  {
   "cell_type": "code",
   "execution_count": null,
   "metadata": {},
   "outputs": [],
   "source": [
    "gru_mlp1 = mlflow.keras.load_model(\"runs:/5be47ec7893e4c0da172035bbb91b9a5/GRU-MLP\")\n",
    "# gru_mlp2 = mlflow.keras.load_model(\"runs:/5de4eb73ca6b49faae9191f3590cea4a/GRU-MLP\")\n",
    "# gru_mlp3 = mlflow.keras.load_model(\"runs:/27b8cba700f8462680f3f94b846634de/GRU-MLP\")\n",
    "# gru_mlp4 = mlflow.keras.load_model(\"runs:/066695261a8348f09c553c9e69d9552b/GRU-MLP\")"
   ]
  },
  {
   "cell_type": "code",
   "execution_count": null,
   "metadata": {},
   "outputs": [],
   "source": [
    "if save_mode:\n",
    "    gru_mlp1.save(os.path.join(model_path, \"gru_mlp_x1_statespace.keras\"))\n",
    "    # gru_mlp2.save(os.path.join(model_path, \"gru_mlp_x2_statespace.keras\"))\n",
    "    # gru_mlp3.save(os.path.join(model_path, \"gru_mlp_x3.keras\"))\n",
    "    # gru_mlp4.save(os.path.join(model_path, \"gru_mlp_x4.keras\"))\n",
    "    print(\"saved\")"
   ]
  },
  {
   "cell_type": "code",
   "execution_count": null,
   "metadata": {},
   "outputs": [],
   "source": [
    "gru_mlp1 = mlflow.keras.load_model(\"runs:/80b5507b20d24720937e0ae5926bde5f/GRU-MLP\")\n",
    "gru_mlp2 = mlflow.keras.load_model(\"runs:/8b0df840c7054a28a3a2b959738ce2a1/GRU-MLP\")\n",
    "# gru_mlp3 = mlflow.keras.load_model(\"runs:/76e19706a80b47edbebaff55f20228b5/GRU-MLP\")\n",
    "# gru_mlp4 = mlflow.keras.load_model(\"runs:/c993058ae47d46af8ac1c5213575651c/GRU-MLP\")"
   ]
  },
  {
   "cell_type": "code",
   "execution_count": null,
   "metadata": {},
   "outputs": [],
   "source": [
    "if save_mode:\n",
    "    gru_mlp1.save(os.path.join(model_path, \"gru_mlp_x1_statespace_v2.keras\"))\n",
    "    gru_mlp2.save(os.path.join(model_path, \"gru_mlp_x2_io_v2.keras\"))\n",
    "    # gru_mlp3.save(os.path.join(model_path, \"gru_mlp_x3.keras\"))\n",
    "    # gru_mlp4.save(os.path.join(model_path, \"gru_mlp_x4.keras\"))\n",
    "    print(\"saved\")"
   ]
  },
  {
   "cell_type": "code",
   "execution_count": null,
   "metadata": {},
   "outputs": [],
   "source": [
    "gru_mlp1 = mlflow.keras.load_model(\"runs:/d22624d4a1e747efb83f3b5e97d3305d/GRU-MLP\")\n",
    "gru_mlp2 = mlflow.keras.load_model(\"runs:/d68b0674f61d435f890b9932a35a96ca/GRU-MLP\")\n",
    "# gru_mlp3 = mlflow.keras.load_model(\"runs:/76e19706a80b47edbebaff55f20228b5/GRU-MLP\")\n",
    "# gru_mlp4 = mlflow.keras.load_model(\"runs:/c993058ae47d46af8ac1c5213575651c/GRU-MLP\")"
   ]
  },
  {
   "cell_type": "code",
   "execution_count": null,
   "metadata": {},
   "outputs": [],
   "source": [
    "if save_mode:\n",
    "    gru_mlp1.save(os.path.join(model_path, \"gru_mlp_x1_io.keras\"))\n",
    "    gru_mlp2.save(os.path.join(model_path, \"gru_mlp_x2_io.keras\"))\n",
    "    # gru_mlp3.save(os.path.join(model_path, \"gru_mlp_x3.keras\"))\n",
    "    # gru_mlp4.save(os.path.join(model_path, \"gru_mlp_x4.keras\"))\n",
    "    print(\"saved\")"
   ]
  }
 ],
 "metadata": {
  "kernelspec": {
   "display_name": "cyber-attk",
   "language": "python",
   "name": "python3"
  },
  "language_info": {
   "codemirror_mode": {
    "name": "ipython",
    "version": 3
   },
   "file_extension": ".py",
   "mimetype": "text/x-python",
   "name": "python",
   "nbconvert_exporter": "python",
   "pygments_lexer": "ipython3",
   "version": "3.11.7"
  }
 },
 "nbformat": 4,
 "nbformat_minor": 2
}
