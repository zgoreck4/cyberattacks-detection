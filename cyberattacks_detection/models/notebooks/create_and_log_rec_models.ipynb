{
 "cells": [
  {
   "cell_type": "code",
   "execution_count": 1,
   "metadata": {},
   "outputs": [],
   "source": [
    "import sys\n",
    "import os\n",
    "\n",
    "project_root = os.path.abspath(os.path.join('..', '..', '..'))\n",
    "if project_root not in sys.path:\n",
    "    sys.path.append(project_root)"
   ]
  },
  {
   "cell_type": "code",
   "execution_count": 2,
   "metadata": {},
   "outputs": [
    {
     "name": "stderr",
     "output_type": "stream",
     "text": [
      "c:\\Users\\zgore\\anaconda3\\envs\\cyber-attk-p39\\lib\\site-packages\\mlflow\\pyfunc\\utils\\data_validation.py:103: FutureWarning: Model's `predict` method contains invalid parameters: {'X'}. Only the following parameter names are allowed: context, model_input, and params. Note that invalid parameters will no longer be permitted in future versions.\n",
      "  param_names = _check_func_signature(func, \"predict\")\n",
      "c:\\Users\\zgore\\anaconda3\\envs\\cyber-attk-p39\\lib\\site-packages\\mlflow\\pyfunc\\utils\\data_validation.py:134: UserWarning: \u001b[33mAdd type hints to the `predict` method to enable data validation and automatic signature inference during model logging. Check https://mlflow.org/docs/latest/model/python_model.html#type-hint-usage-in-pythonmodel for more details.\u001b[0m\n",
      "  color_warning(\n"
     ]
    }
   ],
   "source": [
    "from tensorflow.keras.layers import LSTM, GRU\n",
    "from cyberattacks_detection.models import RBFNN, ELM, ModelWrapper, min_max_scale, reverse_min_max_scale, MinMaxScalerLayer, create_rnn_input, create_rnn, predict_recursion, create_recurrent_and_mlp_model\n",
    "from sklearn.linear_model import LinearRegression\n",
    "import pandas as pd\n",
    "import numpy as np\n",
    "import matplotlib.pyplot as plt\n",
    "from sklearn import metrics\n",
    "import re\n",
    "from itertools import product\n",
    "from tqdm import tqdm"
   ]
  },
  {
   "cell_type": "code",
   "execution_count": 3,
   "metadata": {},
   "outputs": [],
   "source": [
    "import mlflow\n",
    "from mlflow.models import infer_signature"
   ]
  },
  {
   "cell_type": "code",
   "execution_count": 4,
   "metadata": {},
   "outputs": [],
   "source": [
    "import numpy as np\n",
    "from tensorflow.keras.models import Sequential\n",
    "from tensorflow.keras.layers import LSTM, Dense, Rescaling, GRU\n",
    "# from tensorflow.keras.layers.experimental.preprocessing import Normalization\n",
    "from tensorflow.keras.layers import Lambda\n",
    "import tensorflow as tf"
   ]
  },
  {
   "cell_type": "code",
   "execution_count": 5,
   "metadata": {},
   "outputs": [],
   "source": [
    "pd.set_option('display.max_colwidth', None)"
   ]
  },
  {
   "cell_type": "markdown",
   "metadata": {},
   "source": [
    "# Przygotowanie danych"
   ]
  },
  {
   "cell_type": "code",
   "execution_count": 6,
   "metadata": {},
   "outputs": [],
   "source": [
    "data_path = \"../../data/four_tanks/\""
   ]
  },
  {
   "cell_type": "code",
   "execution_count": 7,
   "metadata": {},
   "outputs": [],
   "source": [
    "# # dane bez zakłóceń\n",
    "# df_train = pd.read_csv(data_path+\"result_ol_without_noise_uczące_v3.csv\", sep=';', index_col=0)\n",
    "# df_val = pd.read_csv(data_path+\"result_ol_without_noise_walidacyjne_v3.csv\", sep=';', index_col=0)\n",
    "# df_test = pd.read_csv(data_path+\"result_ol_without_noise_testowe_v3.csv\", sep=';', index_col=0)\n",
    "# dataset_name = \"bez zakłóceń\""
   ]
  },
  {
   "cell_type": "code",
   "execution_count": 8,
   "metadata": {},
   "outputs": [],
   "source": [
    "# dane z zakłóceniami\n",
    "df_train = pd.read_csv(data_path+\"result_ol_with_noise_uczące_v5.csv\", sep=';', index_col=0)\n",
    "df_val = pd.read_csv(data_path+\"result_ol_with_noise_walidacyjne_v5.csv\", sep=';', index_col=0)\n",
    "df_test = pd.read_csv(data_path+\"result_ol_with_noise_testowe_v5.csv\", sep=';', index_col=0)\n",
    "dataset_name = \"z zakłóceniami\""
   ]
  },
  {
   "cell_type": "code",
   "execution_count": 9,
   "metadata": {},
   "outputs": [
    {
     "data": {
      "application/vnd.microsoft.datawrangler.viewer.v0+json": {
       "columns": [
        {
         "name": "index",
         "rawType": "int64",
         "type": "integer"
        },
        {
         "name": "q_A [cm^3/s]",
         "rawType": "float64",
         "type": "float"
        },
        {
         "name": "q_B [cm^3/s]",
         "rawType": "float64",
         "type": "float"
        },
        {
         "name": "q_d1 [cm^3/s]",
         "rawType": "float64",
         "type": "float"
        },
        {
         "name": "q_d2 [cm^3/s]",
         "rawType": "float64",
         "type": "float"
        },
        {
         "name": "q_d3 [cm^3/s]",
         "rawType": "float64",
         "type": "float"
        },
        {
         "name": "q_d4 [cm^3/s]",
         "rawType": "float64",
         "type": "float"
        },
        {
         "name": "x1 [cm]",
         "rawType": "float64",
         "type": "float"
        },
        {
         "name": "x2 [cm]",
         "rawType": "float64",
         "type": "float"
        },
        {
         "name": "x3 [cm]",
         "rawType": "float64",
         "type": "float"
        },
        {
         "name": "x4 [cm]",
         "rawType": "float64",
         "type": "float"
        }
       ],
       "ref": "5ec6b3e5-af50-4ab5-8ed3-f78c4691d9d2",
       "rows": [
        [
         "0",
         "452.78",
         "555.56",
         "0.2646",
         "0.239",
         "0.3064",
         "0.2126",
         "65.0",
         "66.0",
         "65.0",
         "66.0"
        ],
        [
         "1",
         "452.78",
         "555.56",
         "0.06",
         "0.0853",
         "-0.1379",
         "0.0666",
         "65.0",
         "66.0",
         "65.0",
         "66.0"
        ],
        [
         "2",
         "452.78",
         "555.56",
         "0.1468",
         "-0.0172",
         "0.0172",
         "-0.0115",
         "65.0",
         "66.0",
         "65.0",
         "66.0"
        ],
        [
         "3",
         "452.78",
         "555.56",
         "0.3361",
         "0.0377",
         "-0.0206",
         "-0.1637",
         "65.0",
         "66.0",
         "65.0",
         "66.0"
        ],
        [
         "4",
         "452.78",
         "555.56",
         "0.2801",
         "-0.1816",
         "0.2048",
         "-0.0656",
         "65.32042596",
         "65.97500366",
         "65.01759755",
         "65.82893879"
        ]
       ],
       "shape": {
        "columns": 10,
        "rows": 5
       }
      },
      "text/html": [
       "<div>\n",
       "<style scoped>\n",
       "    .dataframe tbody tr th:only-of-type {\n",
       "        vertical-align: middle;\n",
       "    }\n",
       "\n",
       "    .dataframe tbody tr th {\n",
       "        vertical-align: top;\n",
       "    }\n",
       "\n",
       "    .dataframe thead th {\n",
       "        text-align: right;\n",
       "    }\n",
       "</style>\n",
       "<table border=\"1\" class=\"dataframe\">\n",
       "  <thead>\n",
       "    <tr style=\"text-align: right;\">\n",
       "      <th></th>\n",
       "      <th>q_A [cm^3/s]</th>\n",
       "      <th>q_B [cm^3/s]</th>\n",
       "      <th>q_d1 [cm^3/s]</th>\n",
       "      <th>q_d2 [cm^3/s]</th>\n",
       "      <th>q_d3 [cm^3/s]</th>\n",
       "      <th>q_d4 [cm^3/s]</th>\n",
       "      <th>x1 [cm]</th>\n",
       "      <th>x2 [cm]</th>\n",
       "      <th>x3 [cm]</th>\n",
       "      <th>x4 [cm]</th>\n",
       "    </tr>\n",
       "  </thead>\n",
       "  <tbody>\n",
       "    <tr>\n",
       "      <th>0</th>\n",
       "      <td>452.78</td>\n",
       "      <td>555.56</td>\n",
       "      <td>0.2646</td>\n",
       "      <td>0.2390</td>\n",
       "      <td>0.3064</td>\n",
       "      <td>0.2126</td>\n",
       "      <td>65.000000</td>\n",
       "      <td>66.000000</td>\n",
       "      <td>65.000000</td>\n",
       "      <td>66.000000</td>\n",
       "    </tr>\n",
       "    <tr>\n",
       "      <th>1</th>\n",
       "      <td>452.78</td>\n",
       "      <td>555.56</td>\n",
       "      <td>0.0600</td>\n",
       "      <td>0.0853</td>\n",
       "      <td>-0.1379</td>\n",
       "      <td>0.0666</td>\n",
       "      <td>65.000000</td>\n",
       "      <td>66.000000</td>\n",
       "      <td>65.000000</td>\n",
       "      <td>66.000000</td>\n",
       "    </tr>\n",
       "    <tr>\n",
       "      <th>2</th>\n",
       "      <td>452.78</td>\n",
       "      <td>555.56</td>\n",
       "      <td>0.1468</td>\n",
       "      <td>-0.0172</td>\n",
       "      <td>0.0172</td>\n",
       "      <td>-0.0115</td>\n",
       "      <td>65.000000</td>\n",
       "      <td>66.000000</td>\n",
       "      <td>65.000000</td>\n",
       "      <td>66.000000</td>\n",
       "    </tr>\n",
       "    <tr>\n",
       "      <th>3</th>\n",
       "      <td>452.78</td>\n",
       "      <td>555.56</td>\n",
       "      <td>0.3361</td>\n",
       "      <td>0.0377</td>\n",
       "      <td>-0.0206</td>\n",
       "      <td>-0.1637</td>\n",
       "      <td>65.000000</td>\n",
       "      <td>66.000000</td>\n",
       "      <td>65.000000</td>\n",
       "      <td>66.000000</td>\n",
       "    </tr>\n",
       "    <tr>\n",
       "      <th>4</th>\n",
       "      <td>452.78</td>\n",
       "      <td>555.56</td>\n",
       "      <td>0.2801</td>\n",
       "      <td>-0.1816</td>\n",
       "      <td>0.2048</td>\n",
       "      <td>-0.0656</td>\n",
       "      <td>65.320426</td>\n",
       "      <td>65.975004</td>\n",
       "      <td>65.017598</td>\n",
       "      <td>65.828939</td>\n",
       "    </tr>\n",
       "  </tbody>\n",
       "</table>\n",
       "</div>"
      ],
      "text/plain": [
       "   q_A [cm^3/s]  q_B [cm^3/s]  q_d1 [cm^3/s]  q_d2 [cm^3/s]  q_d3 [cm^3/s]  \\\n",
       "0        452.78        555.56         0.2646         0.2390         0.3064   \n",
       "1        452.78        555.56         0.0600         0.0853        -0.1379   \n",
       "2        452.78        555.56         0.1468        -0.0172         0.0172   \n",
       "3        452.78        555.56         0.3361         0.0377        -0.0206   \n",
       "4        452.78        555.56         0.2801        -0.1816         0.2048   \n",
       "\n",
       "   q_d4 [cm^3/s]    x1 [cm]    x2 [cm]    x3 [cm]    x4 [cm]  \n",
       "0         0.2126  65.000000  66.000000  65.000000  66.000000  \n",
       "1         0.0666  65.000000  66.000000  65.000000  66.000000  \n",
       "2        -0.0115  65.000000  66.000000  65.000000  66.000000  \n",
       "3        -0.1637  65.000000  66.000000  65.000000  66.000000  \n",
       "4        -0.0656  65.320426  65.975004  65.017598  65.828939  "
      ]
     },
     "execution_count": 9,
     "metadata": {},
     "output_type": "execute_result"
    }
   ],
   "source": [
    "df_train.head()"
   ]
  },
  {
   "cell_type": "code",
   "execution_count": 10,
   "metadata": {},
   "outputs": [],
   "source": [
    "def transform_column_name(df):\n",
    "    df.columns = [col[0] for col in df.columns.str.split()]\n",
    "    return df"
   ]
  },
  {
   "cell_type": "code",
   "execution_count": 11,
   "metadata": {},
   "outputs": [],
   "source": [
    "df_train = transform_column_name(df_train)\n",
    "df_val = transform_column_name(df_val)\n",
    "df_test = transform_column_name(df_test)"
   ]
  },
  {
   "cell_type": "code",
   "execution_count": 12,
   "metadata": {},
   "outputs": [],
   "source": [
    "qa_max = round(3260000/3600, 2)\n",
    "qa_min=0\n",
    "qb_max = round(4000000/3600)\n",
    "qb_min=0\n",
    "x_max = [136,\n",
    "         136,\n",
    "         130,\n",
    "         130]\n",
    "x_min = [20,\n",
    "         20,\n",
    "         20,\n",
    "         20]"
   ]
  },
  {
   "cell_type": "code",
   "execution_count": 13,
   "metadata": {},
   "outputs": [],
   "source": [
    "def add_delay(df, col, steps=1):    \n",
    "    df[col+f'(k-{steps})'] = df[col].shift(steps)\n",
    "    return df"
   ]
  },
  {
   "cell_type": "code",
   "execution_count": 14,
   "metadata": {},
   "outputs": [],
   "source": [
    "def add_delay_to_all_cols(df_train, df_val, df_test):\n",
    "    cols_delay = ['q_A', 'q_B', 'x1', 'x2', 'x3', 'x4']\n",
    "    for col in cols_delay:\n",
    "        for step in range(1, 5):\n",
    "            df_train = add_delay(df_train, col, step)\n",
    "            df_val = add_delay(df_val, col, step)\n",
    "            df_test = add_delay(df_test, col, step)\n",
    "    return df_train, df_val, df_test"
   ]
  },
  {
   "cell_type": "code",
   "execution_count": 15,
   "metadata": {},
   "outputs": [],
   "source": [
    "# df_train, df_val, df_test = add_delay_to_all_cols(df_train, df_val, df_test)"
   ]
  },
  {
   "cell_type": "code",
   "execution_count": 16,
   "metadata": {},
   "outputs": [],
   "source": [
    "df_train.dropna(inplace=True)\n",
    "df_val.dropna(inplace=True)\n",
    "df_test.dropna(inplace=True)"
   ]
  },
  {
   "cell_type": "code",
   "execution_count": 17,
   "metadata": {},
   "outputs": [
    {
     "name": "stdout",
     "output_type": "stream",
     "text": [
      "Wymiar danych uczących: (2999, 10)\n",
      "Wymiar danych walidacyjnych: (999, 10)\n",
      "Wymiar danych testowych: (999, 10)\n"
     ]
    }
   ],
   "source": [
    "print(f\"Wymiar danych uczących: {df_train.shape}\")\n",
    "print(f\"Wymiar danych walidacyjnych: {df_val.shape}\")\n",
    "print(f\"Wymiar danych testowych: {df_test.shape}\")"
   ]
  },
  {
   "cell_type": "markdown",
   "metadata": {},
   "source": [
    "# Modelowanie"
   ]
  },
  {
   "cell_type": "code",
   "execution_count": 18,
   "metadata": {},
   "outputs": [],
   "source": [
    "mlflow.set_tracking_uri(\"http://localhost:5000\")"
   ]
  },
  {
   "cell_type": "code",
   "execution_count": 19,
   "metadata": {},
   "outputs": [],
   "source": [
    "model_type_dict = {'statespace': 'w przestrzeni stanu', 'io': 'wejście-wyjście'}\n",
    "model_class_list = [\"LR\", \"ELM\", \"RBF\", \"LSTM\", 'GRU', 'LSTM-MLP', 'GRU-MLP']"
   ]
  },
  {
   "cell_type": "code",
   "execution_count": 61,
   "metadata": {},
   "outputs": [],
   "source": [
    "def normalized_x_error(RMSE, min_val_y, max_val_y):\n",
    "    return RMSE/(max_val_y - min_val_y)"
   ]
  },
  {
   "cell_type": "code",
   "execution_count": 62,
   "metadata": {},
   "outputs": [],
   "source": [
    "def prepare_data(df_train, df_val, df_test, features, y_name, time_steps, min_val_y, max_val_y):\n",
    "    col_idx = df_train[features].columns.get_loc(y_name)\n",
    "    X_train, y_train = create_rnn_input(df_train[features], col_idx, time_steps)\n",
    "    y_train_sc = min_max_scale(y_train, min_val_y, max_val_y)\n",
    "    \n",
    "    X_val, y_val = create_rnn_input(df_val[features], col_idx, time_steps)\n",
    "    y_val_sc = min_max_scale(y_val, min_val_y, max_val_y)\n",
    "    \n",
    "    X_test, y_test = create_rnn_input(df_test[features], col_idx, time_steps)\n",
    "    \n",
    "    return X_train, y_train, y_train_sc, X_val, y_val, y_val_sc, X_test, y_test"
   ]
  },
  {
   "cell_type": "code",
   "execution_count": 63,
   "metadata": {},
   "outputs": [],
   "source": [
    "def get_model(model_class_str, **kwargs):\n",
    "    if model_class_str in (\"LSTM-MLP\", \"GRU-MLP\"):\n",
    "        return create_recurrent_and_mlp_model(**kwargs)\n",
    "    else:\n",
    "        return create_rnn(**kwargs)"
   ]
  },
  {
   "cell_type": "code",
   "execution_count": 64,
   "metadata": {},
   "outputs": [],
   "source": [
    "def evaluate_model(model, df_train, df_val, df_test, X_train, y_train, X_val, y_val, X_test, y_test, \n",
    "                   y_name, features, time_steps, num_features, min_val_y, max_val_y, pred_mode):\n",
    "    metrics_not_rec, metrics_norm_not_rec = {}, {}\n",
    "    metrics_rec, metrics_norm_rec = {}, {}\n",
    "\n",
    "    pred_mode_tuple = (\"both\", \"not_recursion\", \"recursion\")\n",
    "    if pred_mode not in pred_mode_tuple:\n",
    "        raise ValueError(f\"Invalid pred_mode. Expected one of {pred_mode_tuple}\")\n",
    "\n",
    "    if pred_mode in (\"both\", \"not_recursion\"):\n",
    "        y_train_pred = reverse_min_max_scale(model.predict(X_train, verbose=0), min_val_y, max_val_y)\n",
    "        y_val_pred = reverse_min_max_scale(model.predict(X_val, verbose=0), min_val_y, max_val_y)\n",
    "        y_test_pred = reverse_min_max_scale(model.predict(X_test, verbose=0), min_val_y, max_val_y)\n",
    "\n",
    "        metrics_not_rec = {\n",
    "            \"RMSE_train\": round(metrics.root_mean_squared_error(y_train, y_train_pred), 4),\n",
    "            \"RMSE_val\": round(metrics.root_mean_squared_error(y_val, y_val_pred), 4),\n",
    "            \"RMSE_test\": round(metrics.root_mean_squared_error(y_test, y_test_pred), 4)\n",
    "        }\n",
    "\n",
    "        metrics_norm_not_rec = {\n",
    "            f\"NRMSE_{key}\": round(normalized_x_error(val, min_val_y, max_val_y), 4)\n",
    "            for key, val in metrics_not_rec.items()\n",
    "        }\n",
    "\n",
    "    if pred_mode in (\"both\", \"recursion\"):\n",
    "        y_val_pred = predict_recursion(df_val, model, features, y_name, num_features, time_steps, min_val_y, max_val_y)\n",
    "        RMSE_val = round(metrics.root_mean_squared_error(y_val, y_val_pred[time_steps:]), 4)\n",
    "\n",
    "        if (RMSE_val > 6) or (y_name in ('x3', 'x4') and RMSE_val > 1.2):\n",
    "            metrics_rec = {\"RMSE_val_recursion2\": RMSE_val}\n",
    "            metrics_norm_rec = {\"NRMSE_val_recursion2\": round(normalized_x_error(RMSE_val, min_val_y, max_val_y), 4)}\n",
    "        else:\n",
    "            y_train_pred = predict_recursion(df_train, model, features, y_name, num_features, time_steps, min_val_y, max_val_y)\n",
    "            y_test_pred = predict_recursion(df_test, model, features, y_name, num_features, time_steps, min_val_y, max_val_y)\n",
    "            RMSE_train = round(metrics.root_mean_squared_error(y_train, y_train_pred[time_steps:]), 4)\n",
    "            RMSE_test = round(metrics.root_mean_squared_error(y_test, y_test_pred[time_steps:]), 4)\n",
    "\n",
    "            metrics_rec = {\n",
    "                \"RMSE_train_recursion\": RMSE_train,\n",
    "                \"RMSE_val_recursion\": RMSE_val,\n",
    "                \"RMSE_test_recursion\": RMSE_test\n",
    "            }\n",
    "            metrics_norm_rec = {\n",
    "                \"NRMSE_train_recursion\": round(normalized_x_error(RMSE_train, min_val_y, max_val_y), 4),\n",
    "                \"NRMSE_val_recursion\": round(normalized_x_error(RMSE_val, min_val_y, max_val_y), 4),\n",
    "                \"NRMSE_test_recursion\": round(normalized_x_error(RMSE_test, min_val_y, max_val_y), 4)\n",
    "            }\n",
    "\n",
    "        if y_name == 'x1':\n",
    "            metrics_rec.update({k + \"2\": v for k, v in metrics_rec.items()})\n",
    "            metrics_norm_rec.update({k + \"2\": v for k, v in metrics_norm_rec.items()})\n",
    "\n",
    "    return metrics_not_rec | metrics_norm_not_rec | metrics_rec | metrics_norm_rec"
   ]
  },
  {
   "cell_type": "code",
   "execution_count": 65,
   "metadata": {},
   "outputs": [],
   "source": [
    "def log_metrics_to_mlflow(params, metrics, model, model_class_str, model_type, time_steps, y_name, X_train, y_train_pred):\n",
    "    with mlflow.start_run():\n",
    "        mlflow.log_params(params)\n",
    "        mlflow.log_metrics(metrics)\n",
    "        signature = infer_signature(X_train, y_train_pred)\n",
    "        mlflow.keras.log_model(\n",
    "            model,\n",
    "            artifact_path=model_class_str,\n",
    "            signature=signature,\n",
    "            registered_model_name=f\"{model_class_str}_{model_type}_{time_steps}_{y_name}\"\n",
    "        )"
   ]
  },
  {
   "cell_type": "code",
   "execution_count": 66,
   "metadata": {},
   "outputs": [],
   "source": [
    "def train_and_evaluate_model(df_train,\n",
    "                                df_val,\n",
    "                                df_test,\n",
    "                                model_class_str,\n",
    "                                y_name,\n",
    "                                features,\n",
    "                                model_type,\n",
    "                                time_steps,\n",
    "                                min_vals,\n",
    "                                max_vals,\n",
    "                                patience,\n",
    "                                optimizer,\n",
    "                                loss,\n",
    "                                epochs,\n",
    "                                batch_size,\n",
    "                                pred_mode='both',\n",
    "                                **kwargs):\n",
    "\n",
    "    idx = int(re.findall(r'x(\\d+)', y_name)[0]) - 1\n",
    "    # mlflow.set_experiment(f\"four_tanks_{y_name.replace('x', 'h')}_v2\")\n",
    "    mlflow.set_experiment(f\"test_{y_name.replace('x', 'h')}_v2\")\n",
    "\n",
    "    X_train, y_train, y_train_sc, X_val, y_val, y_val_sc, X_test, y_test = prepare_data(\n",
    "        df_train, df_val, df_test, features, y_name, time_steps, x_min[idx], x_max[idx]\n",
    "    )\n",
    "\n",
    "    callback = tf.keras.callbacks.EarlyStopping(monitor='val_loss', patience=patience, restore_best_weights=True)\n",
    "\n",
    "    model = get_model(model_class_str, num_features=len(features), time_steps=time_steps,\n",
    "                       min_vals=min_vals, max_vals=max_vals, **kwargs)\n",
    "    model.compile(optimizer=optimizer, loss=loss)\n",
    "\n",
    "    history = model.fit(X_train, y_train_sc, epochs=epochs, batch_size=batch_size,\n",
    "                        validation_data=(X_val, y_val_sc), callbacks=[callback])\n",
    "\n",
    "    epochs_real = len(history.epoch)\n",
    "    y_train_pred_sc = model.predict(X_train, verbose=0)\n",
    "    y_train_pred_not_rec = reverse_min_max_scale(y_train_pred_sc, x_min[idx], x_max[idx])\n",
    "\n",
    "    base_params = {\n",
    "        \"model_class\": model_class_str,\n",
    "        \"model_type\": model_type_dict[model_type],\n",
    "        \"order_dyn\": time_steps,\n",
    "        \"y_name\": y_name + '(k)',\n",
    "        \"features\": features,\n",
    "        \"iterations\": epochs,\n",
    "        \"iterations_real\": epochs_real,\n",
    "        \"patience\": patience,\n",
    "        \"optimizer\": optimizer,\n",
    "        \"loss\": loss,\n",
    "        \"batch_size\": batch_size\n",
    "    }\n",
    "\n",
    "    metrics = evaluate_model(\n",
    "        model, df_train, df_val, df_test,\n",
    "        X_train, y_train, X_val, y_val, X_test, y_test,\n",
    "        y_name, features, time_steps, len(features), x_min[idx], x_max[idx], pred_mode\n",
    "    )\n",
    "\n",
    "    log_metrics_to_mlflow(base_params | kwargs, metrics, model, model_class_str, model_type, time_steps, y_name, X_train, y_train_pred_not_rec)\n"
   ]
  },
  {
   "cell_type": "code",
   "execution_count": 67,
   "metadata": {},
   "outputs": [],
   "source": [
    "def train_and_evaluate_4models(df_train, df_val, df_test,\n",
    "                          model_class_str, y_names, features_list,\n",
    "                          model_type, time_steps, min_vals_list, max_vals_list,\n",
    "                          patience, optimizer, loss, epochs, batch_size,\n",
    "                          pred_mode='both', **kwargs):\n",
    "    for y_name, features, min_vals, max_vals in zip(y_names, features_list, min_vals_list, max_vals_list):\n",
    "        train_and_evaluate_model(df_train, df_val, df_test,\n",
    "                                    model_class_str, y_name, features,\n",
    "                                    model_type, time_steps,\n",
    "                                    min_vals, max_vals,\n",
    "                                    patience, optimizer, loss,\n",
    "                                    epochs, batch_size,\n",
    "                                    pred_mode=pred_mode,\n",
    "                                    **kwargs)"
   ]
  },
  {
   "cell_type": "markdown",
   "metadata": {},
   "source": [
    "## LSTM"
   ]
  },
  {
   "cell_type": "code",
   "execution_count": 38,
   "metadata": {},
   "outputs": [
    {
     "name": "stdout",
     "output_type": "stream",
     "text": [
      "LSTM\n"
     ]
    }
   ],
   "source": [
    "create_model_fn = create_rnn\n",
    "model_class_str = model_class_list[3]\n",
    "print(model_class_str)\n",
    "recurrent_layer = LSTM"
   ]
  },
  {
   "cell_type": "code",
   "execution_count": null,
   "metadata": {},
   "outputs": [],
   "source": [
    "patience = 30\n",
    "optimizer = 'adam'\n",
    "loss = 'mse'\n",
    "epochs = 400 # 10 # 300\n",
    "batch_size = 32"
   ]
  },
  {
   "cell_type": "code",
   "execution_count": null,
   "metadata": {},
   "outputs": [],
   "source": [
    "features_list = [['q_A', 'q_B', 'x1'],\n",
    "                ['q_A', 'q_B', 'x2'],\n",
    "                ['q_A', 'q_B', 'x3'],\n",
    "                ['q_A', 'q_B', 'x4']]\n",
    "y_names = ['x1', 'x2', 'x3', 'x4']\n",
    "model_type = 'io'\n",
    "min_vals_list = [np.array([qa_min, qb_min, x_min[0]]),\n",
    "                np.array([qa_min, qb_min, x_min[1]]),\n",
    "                np.array([qa_min, qb_min, x_min[2]]),\n",
    "                np.array([qa_min, qb_min, x_min[3]])]\n",
    "max_vals_lits = [np.array([qa_max, qb_max, x_max[0]]),\n",
    "                np.array([qa_max, qb_max, x_max[1]]),\n",
    "                np.array([qa_max, qb_max, x_max[2]]),\n",
    "                np.array([qa_max, qb_max, x_max[3]])]\n",
    "\n",
    "num_hidden_neurons_list = [8, 16, 24, 32, 48, 64]\n",
    "num_hidden_layers_list = [1, 2, 3]\n",
    "time_steps_list = [1, 2, 3, 4]\n",
    "\n",
    "for num_hidden_neurons, num_hidden_layers, time_steps in tqdm(product(num_hidden_neurons_list, num_hidden_layers_list, time_steps_list),\n",
    "                                                              total=len(num_hidden_neurons_list) * len(num_hidden_layers_list) * len(time_steps_list),\n",
    "                                                                desc=\"Training Progress\"):\n",
    "    train_and_evaluate_4models(df_train,\n",
    "                            df_val,\n",
    "                            df_test,\n",
    "                            model_class_str,\n",
    "                            y_names,\n",
    "                            features_list,\n",
    "                            model_type,\n",
    "                            time_steps,\n",
    "                            min_vals_list,\n",
    "                            max_vals_lits,\n",
    "                            patience,\n",
    "                            optimizer,\n",
    "                            loss,\n",
    "                            epochs,\n",
    "                            batch_size,\n",
    "                            pred_mode='both',\n",
    "                            recurrent_layer=recurrent_layer,\n",
    "                            num_hidden_layers=num_hidden_layers,\n",
    "                            units_per_layer=num_hidden_neurons)"
   ]
  },
  {
   "cell_type": "code",
   "execution_count": null,
   "metadata": {},
   "outputs": [],
   "source": [
    "features_list = [['q_A', 'q_B', 'x1', 'x2', 'x3', 'x4'],\n",
    "                 ['q_A', 'q_B', 'x1', 'x2', 'x3', 'x4'],\n",
    "                 ['q_A', 'q_B', 'x1', 'x2', 'x3', 'x4'],\n",
    "                 ['q_A', 'q_B', 'x1', 'x2', 'x3', 'x4']]\n",
    "y_names = ['x1', 'x2', 'x3', 'x4']\n",
    "model_type = 'statespace'\n",
    "min_vals_list = [np.array([qa_min, qb_min, x_min[0], x_min[1], x_min[2], x_min[3]]),\n",
    "                 np.array([qa_min, qb_min, x_min[0], x_min[1], x_min[2], x_min[3]]),\n",
    "                 np.array([qa_min, qb_min, x_min[0], x_min[1], x_min[2], x_min[3]]),\n",
    "                 np.array([qa_min, qb_min, x_min[0], x_min[1], x_min[2], x_min[3]])]\n",
    "max_vals_lits = [np.array([qa_max, qb_max, x_max[0], x_max[1], x_max[2], x_max[3]]),\n",
    "                 np.array([qa_max, qb_max, x_max[0], x_max[1], x_max[2], x_max[3]]),\n",
    "                 np.array([qa_max, qb_max, x_max[0], x_max[1], x_max[2], x_max[3]]),\n",
    "                 np.array([qa_max, qb_max, x_max[0], x_max[1], x_max[2], x_max[3]])]\n",
    "\n",
    "num_hidden_neurons_list = [8, 16, 24, 32, 48, 64]\n",
    "num_hidden_layers_list = [1, 2, 3]\n",
    "time_steps = 1\n",
    "\n",
    "for num_hidden_neurons, num_hidden_layers in tqdm(product(num_hidden_neurons_list, num_hidden_layers_list),\n",
    "                                                              total=len(num_hidden_neurons_list) * len(num_hidden_layers_list),\n",
    "                                                                desc=\"Training Progress\"):\n",
    "    train_and_evaluate_4models(df_train,\n",
    "                            df_val,\n",
    "                            df_test,\n",
    "                            model_class_str,\n",
    "                            y_names,\n",
    "                            features_list,\n",
    "                            model_type,\n",
    "                            time_steps,\n",
    "                            num_hidden_layers,\n",
    "                            num_hidden_neurons,\n",
    "                            min_vals_list,\n",
    "                            max_vals_lits,\n",
    "                            patience,\n",
    "                            optimizer,\n",
    "                            loss,\n",
    "                            epochs,\n",
    "                            batch_size,\n",
    "                            pred_mode='both',\n",
    "                            recurrent_layer=recurrent_layer,\n",
    "                            num_hidden_layers=num_hidden_layers,\n",
    "                            units_per_layer=num_hidden_neurons)"
   ]
  },
  {
   "cell_type": "markdown",
   "metadata": {},
   "source": [
    "## GRU"
   ]
  },
  {
   "cell_type": "code",
   "execution_count": null,
   "metadata": {},
   "outputs": [
    {
     "name": "stdout",
     "output_type": "stream",
     "text": [
      "GRU\n"
     ]
    }
   ],
   "source": [
    "model_class_str = model_class_list[4]\n",
    "print(model_class_str)\n",
    "recurrent_layer = GRU"
   ]
  },
  {
   "cell_type": "code",
   "execution_count": null,
   "metadata": {},
   "outputs": [],
   "source": [
    "patience = 30\n",
    "optimizer = 'adam'\n",
    "loss = 'mse'\n",
    "epochs = 400 # 10 # 300\n",
    "batch_size = 32"
   ]
  },
  {
   "cell_type": "code",
   "execution_count": null,
   "metadata": {},
   "outputs": [],
   "source": [
    "features_list = [['q_A', 'q_B', 'x1'],\n",
    "                ['q_A', 'q_B', 'x2'],\n",
    "                ['q_A', 'q_B', 'x3'],\n",
    "                ['q_A', 'q_B', 'x4']]\n",
    "y_names = ['x1', 'x2', 'x3', 'x4']\n",
    "model_type = 'io'\n",
    "min_vals_list = [np.array([qa_min, qb_min, x_min[0]]),\n",
    "                np.array([qa_min, qb_min, x_min[1]]),\n",
    "                np.array([qa_min, qb_min, x_min[2]]),\n",
    "                np.array([qa_min, qb_min, x_min[3]])]\n",
    "max_vals_lits = [np.array([qa_max, qb_max, x_max[0]]),\n",
    "                np.array([qa_max, qb_max, x_max[1]]),\n",
    "                np.array([qa_max, qb_max, x_max[2]]),\n",
    "                np.array([qa_max, qb_max, x_max[3]])]\n",
    "\n",
    "num_hidden_neurons_list = [8, 16, 24, 32, 48, 64]\n",
    "num_hidden_layers_list = [1, 2, 3]\n",
    "time_steps_list = [1, 2, 3, 4]\n",
    "\n",
    "for num_hidden_neurons, num_hidden_layers, time_steps in tqdm(product(num_hidden_neurons_list, num_hidden_layers_list, time_steps_list),\n",
    "                                                              total=len(num_hidden_neurons_list) * len(num_hidden_layers_list) * len(time_steps_list),\n",
    "                                                                desc=\"Training Progress\"):\n",
    "    train_and_evaluate_4models(df_train,\n",
    "                            df_val,\n",
    "                            df_test,\n",
    "                            model_class_str,\n",
    "                            y_names,\n",
    "                            features_list,\n",
    "                            model_type,\n",
    "                            time_steps,\n",
    "                            min_vals_list,\n",
    "                            max_vals_lits,\n",
    "                            patience,\n",
    "                            optimizer,\n",
    "                            loss,\n",
    "                            epochs,\n",
    "                            batch_size,\n",
    "                            pred_mode='both',\n",
    "                            recurrent_layer=recurrent_layer,\n",
    "                            num_hidden_layers=num_hidden_layers,\n",
    "                            units_per_layer=num_hidden_neurons)"
   ]
  },
  {
   "cell_type": "code",
   "execution_count": null,
   "metadata": {},
   "outputs": [],
   "source": [
    "features_list = [['q_A', 'q_B', 'x1', 'x2', 'x3', 'x4'],\n",
    "                 ['q_A', 'q_B', 'x1', 'x2', 'x3', 'x4'],\n",
    "                 ['q_A', 'q_B', 'x1', 'x2', 'x3', 'x4'],\n",
    "                 ['q_A', 'q_B', 'x1', 'x2', 'x3', 'x4']]\n",
    "y_names = ['x1', 'x2', \n",
    "           'x3', 'x4']\n",
    "model_type = 'statespace'\n",
    "min_vals_list = [np.array([qa_min, qb_min, x_min[0], x_min[1], x_min[2], x_min[3]]),\n",
    "                 np.array([qa_min, qb_min, x_min[0], x_min[1], x_min[2], x_min[3]]),\n",
    "                 np.array([qa_min, qb_min, x_min[0], x_min[1], x_min[2], x_min[3]]),\n",
    "                 np.array([qa_min, qb_min, x_min[0], x_min[1], x_min[2], x_min[3]])]\n",
    "max_vals_lits = [np.array([qa_max, qb_max, x_max[0], x_max[1], x_max[2], x_max[3]]),\n",
    "                 np.array([qa_max, qb_max, x_max[0], x_max[1], x_max[2], x_max[3]]),\n",
    "                 np.array([qa_max, qb_max, x_max[0], x_max[1], x_max[2], x_max[3]]),\n",
    "                 np.array([qa_max, qb_max, x_max[0], x_max[1], x_max[2], x_max[3]])]\n",
    "\n",
    "num_hidden_neurons_list = [8, 16, 24, 32, 48, 64]\n",
    "num_hidden_layers_list = [1, 2, 3]\n",
    "time_steps_list = [1, 2, 3, 4]\n",
    "\n",
    "for num_hidden_neurons, num_hidden_layers, time_steps in tqdm(product(num_hidden_neurons_list, num_hidden_layers_list, time_steps_list),\n",
    "                                                              total=len(num_hidden_neurons_list) * len(num_hidden_layers_list) * len(time_steps_list),\n",
    "                                                                desc=\"Training Progress\"):\n",
    "    train_and_evaluate_4models(df_train,\n",
    "                            df_val,\n",
    "                            df_test,\n",
    "                            model_class_str,\n",
    "                            y_names,\n",
    "                            features_list,\n",
    "                            model_type,\n",
    "                            time_steps,\n",
    "                            min_vals_list,\n",
    "                            max_vals_lits,\n",
    "                            patience,\n",
    "                            optimizer,\n",
    "                            loss,\n",
    "                            epochs,\n",
    "                            batch_size,\n",
    "                            pred_mode='both',\n",
    "                            recurrent_layer=recurrent_layer,\n",
    "                            num_hidden_layers=num_hidden_layers,\n",
    "                            units_per_layer=num_hidden_neurons)"
   ]
  },
  {
   "cell_type": "markdown",
   "metadata": {},
   "source": [
    "# LSTM-MLP"
   ]
  },
  {
   "cell_type": "code",
   "execution_count": 68,
   "metadata": {},
   "outputs": [
    {
     "name": "stdout",
     "output_type": "stream",
     "text": [
      "LSTM-MLP\n"
     ]
    }
   ],
   "source": [
    "model_class_str = model_class_list[5]\n",
    "print(model_class_str)\n",
    "recurrent_layer = LSTM"
   ]
  },
  {
   "cell_type": "code",
   "execution_count": null,
   "metadata": {},
   "outputs": [],
   "source": [
    "patience = 30\n",
    "optimizer = 'adam'\n",
    "loss = 'mse'\n",
    "epochs = 400 # 10 # 300\n",
    "batch_size = 32"
   ]
  },
  {
   "cell_type": "code",
   "execution_count": null,
   "metadata": {},
   "outputs": [],
   "source": [
    "features_list = [['q_A', 'q_B', 'x1'],\n",
    "                ['q_A', 'q_B', 'x2'],\n",
    "                ['q_A', 'q_B', 'x3'],\n",
    "                ['q_A', 'q_B', 'x4']]\n",
    "y_names = ['x1', 'x2', 'x3', 'x4']\n",
    "model_type = 'io'\n",
    "min_vals_list = [np.array([qa_min, qb_min, x_min[0]]),\n",
    "                np.array([qa_min, qb_min, x_min[1]]),\n",
    "                np.array([qa_min, qb_min, x_min[2]]),\n",
    "                np.array([qa_min, qb_min, x_min[3]])]\n",
    "max_vals_lits = [np.array([qa_max, qb_max, x_max[0]]),\n",
    "                np.array([qa_max, qb_max, x_max[1]]),\n",
    "                np.array([qa_max, qb_max, x_max[2]]),\n",
    "                np.array([qa_max, qb_max, x_max[3]])]\n",
    "\n",
    "activation_mlp_list=['relu', 'tanh']\n",
    "num_mlp_hidden_layers_list=[1, 2]\n",
    "time_steps_list=[1]\n",
    "recurrent_units_per_layer_list=[8, 16, 24, 32, 48, 64]\n",
    "mlp_units_per_layer_list=[4, 8, 16, 24, 32, 48]\n",
    "\n",
    "for activation_mlp, num_mlp_hidden_layers, time_steps, recurrent_units_per_layer, mlp_units_per_layer in tqdm(product(activation_mlp_list,\n",
    "                                                                                                               num_mlp_hidden_layers_list,\n",
    "                                                                                                              time_steps_list,\n",
    "                                                                                                               recurrent_units_per_layer_list,\n",
    "                                                                                                               mlp_units_per_layer_list),\n",
    "                                                              total=len(recurrent_units_per_layer_list) * len(mlp_units_per_layer_list) * len(num_mlp_hidden_layers_list) * len(time_steps_list) * len(activation_mlp_list),\n",
    "                                                                desc=\"Training Progress\"):\n",
    "    train_and_evaluate_4models(df_train,\n",
    "                            df_val,\n",
    "                            df_test,\n",
    "                            model_class_str,\n",
    "                            y_names,\n",
    "                            features_list,\n",
    "                            model_type,\n",
    "                            time_steps,\n",
    "                            min_vals_list,\n",
    "                            max_vals_lits,\n",
    "                            patience,\n",
    "                            optimizer,\n",
    "                            loss,\n",
    "                            epochs,\n",
    "                            batch_size,\n",
    "                            pred_mode='both',\n",
    "                            recurrent_layer=recurrent_layer,\n",
    "                            num_mlp_hidden_layers=num_mlp_hidden_layers,\n",
    "                            recurrent_units_per_layer=recurrent_units_per_layer,\n",
    "                            mlp_units_per_layer=mlp_units_per_layer,\n",
    "                            activation_mlp=activation_mlp)"
   ]
  },
  {
   "cell_type": "code",
   "execution_count": null,
   "metadata": {},
   "outputs": [],
   "source": [
    "features_list = [['q_A', 'q_B', 'x1', 'x2', 'x3', 'x4'],\n",
    "                 ['q_A', 'q_B', 'x1', 'x2', 'x3', 'x4'],\n",
    "                 ['q_A', 'q_B', 'x1', 'x2', 'x3', 'x4'],\n",
    "                 ['q_A', 'q_B', 'x1', 'x2', 'x3', 'x4']]\n",
    "y_names = ['x1', 'x2', \n",
    "           'x3', 'x4']\n",
    "model_type = 'statespace'\n",
    "min_vals_list = [np.array([qa_min, qb_min, x_min[0], x_min[1], x_min[2], x_min[3]]),\n",
    "                 np.array([qa_min, qb_min, x_min[0], x_min[1], x_min[2], x_min[3]]),\n",
    "                 np.array([qa_min, qb_min, x_min[0], x_min[1], x_min[2], x_min[3]]),\n",
    "                 np.array([qa_min, qb_min, x_min[0], x_min[1], x_min[2], x_min[3]])]\n",
    "max_vals_lits = [np.array([qa_max, qb_max, x_max[0], x_max[1], x_max[2], x_max[3]]),\n",
    "                 np.array([qa_max, qb_max, x_max[0], x_max[1], x_max[2], x_max[3]]),\n",
    "                 np.array([qa_max, qb_max, x_max[0], x_max[1], x_max[2], x_max[3]]),\n",
    "                 np.array([qa_max, qb_max, x_max[0], x_max[1], x_max[2], x_max[3]])]\n",
    "\n",
    "activation_mlp_list=['relu', 'tanh']\n",
    "num_mlp_hidden_layers_list=[1, 2]\n",
    "time_steps_list=[1]\n",
    "recurrent_units_per_layer_list=[8, 16, 24, 32, 48, 64]\n",
    "mlp_units_per_layer_list=[4, 8, 16, 24, 32, 48]\n",
    "\n",
    "for activation_mlp, num_mlp_hidden_layers, time_steps, recurrent_units_per_layer, mlp_units_per_layer in tqdm(product(activation_mlp_list,\n",
    "                                                                                                               num_mlp_hidden_layers_list,\n",
    "                                                                                                              time_steps_list,\n",
    "                                                                                                               recurrent_units_per_layer_list,\n",
    "                                                                                                               mlp_units_per_layer_list),\n",
    "                                                              total=len(recurrent_units_per_layer_list) * len(mlp_units_per_layer_list) * len(num_mlp_hidden_layers_list) * len(time_steps_list) * len(activation_mlp_list),\n",
    "                                                                desc=\"Training Progress\"):\n",
    "    train_and_evaluate_4models(df_train,\n",
    "                            df_val,\n",
    "                            df_test,\n",
    "                            model_class_str,\n",
    "                            y_names,\n",
    "                            features_list,\n",
    "                            model_type,\n",
    "                            time_steps,\n",
    "                            min_vals_list,\n",
    "                            max_vals_lits,\n",
    "                            patience,\n",
    "                            optimizer,\n",
    "                            loss,\n",
    "                            epochs,\n",
    "                            batch_size,\n",
    "                            pred_mode='both',\n",
    "                            recurrent_layer=recurrent_layer,\n",
    "                            num_mlp_hidden_layers=num_mlp_hidden_layers,\n",
    "                            recurrent_units_per_layer=recurrent_units_per_layer,\n",
    "                            mlp_units_per_layer=mlp_units_per_layer,\n",
    "                            activation_mlp=activation_mlp)"
   ]
  },
  {
   "cell_type": "markdown",
   "metadata": {},
   "source": [
    "# GRU-MLP"
   ]
  },
  {
   "cell_type": "code",
   "execution_count": null,
   "metadata": {},
   "outputs": [],
   "source": [
    "model_class_str = model_class_list[6]\n",
    "print(model_class_str)\n",
    "\n",
    "recurrent_layer = GRU"
   ]
  },
  {
   "cell_type": "code",
   "execution_count": null,
   "metadata": {},
   "outputs": [],
   "source": [
    "patience = 30\n",
    "optimizer = 'adam'\n",
    "loss = 'mse'\n",
    "epochs = 400 # 10 # 300\n",
    "batch_size = 32"
   ]
  },
  {
   "cell_type": "code",
   "execution_count": null,
   "metadata": {},
   "outputs": [],
   "source": [
    "features_list = [['q_A', 'q_B', 'x1'],\n",
    "                ['q_A', 'q_B', 'x2'],\n",
    "                ['q_A', 'q_B', 'x3'],\n",
    "                ['q_A', 'q_B', 'x4']]\n",
    "y_names = ['x1', 'x2', 'x3', 'x4']\n",
    "model_type = 'io'\n",
    "min_vals_list = [np.array([qa_min, qb_min, x_min[0]]),\n",
    "                np.array([qa_min, qb_min, x_min[1]]),\n",
    "                np.array([qa_min, qb_min, x_min[2]]),\n",
    "                np.array([qa_min, qb_min, x_min[3]])]\n",
    "max_vals_lits = [np.array([qa_max, qb_max, x_max[0]]),\n",
    "                np.array([qa_max, qb_max, x_max[1]]),\n",
    "                np.array([qa_max, qb_max, x_max[2]]),\n",
    "                np.array([qa_max, qb_max, x_max[3]])]\n",
    "\n",
    "activation_mlp_list=['relu', 'tanh']\n",
    "num_mlp_hidden_layers_list=[1, 2]\n",
    "time_steps_list=[1]\n",
    "recurrent_units_per_layer_list=[8, 16, 24, 32, 48, 64]\n",
    "mlp_units_per_layer_list=[4, 8, 16, 24, 32, 48]\n",
    "\n",
    "for activation_mlp, num_mlp_hidden_layers, time_steps, recurrent_units_per_layer, mlp_units_per_layer in tqdm(product(activation_mlp_list,\n",
    "                                                                                                               num_mlp_hidden_layers_list,\n",
    "                                                                                                              time_steps_list,\n",
    "                                                                                                               recurrent_units_per_layer_list,\n",
    "                                                                                                               mlp_units_per_layer_list),\n",
    "                                                              total=len(recurrent_units_per_layer_list) * len(mlp_units_per_layer_list) * len(num_mlp_hidden_layers_list) * len(time_steps_list) * len(activation_mlp_list),\n",
    "                                                                desc=\"Training Progress\"):\n",
    "    train_and_evaluate_4models(df_train,\n",
    "                            df_val,\n",
    "                            df_test,\n",
    "                            model_class_str,\n",
    "                            y_names,\n",
    "                            features_list,\n",
    "                            model_type,\n",
    "                            time_steps,\n",
    "                            min_vals_list,\n",
    "                            max_vals_lits,\n",
    "                            patience,\n",
    "                            optimizer,\n",
    "                            loss,\n",
    "                            epochs,\n",
    "                            batch_size,\n",
    "                            pred_mode='both',\n",
    "                            recurrent_layer=recurrent_layer,\n",
    "                            num_mlp_hidden_layers=num_mlp_hidden_layers,\n",
    "                            recurrent_units_per_layer=recurrent_units_per_layer,\n",
    "                            mlp_units_per_layer=mlp_units_per_layer,\n",
    "                            activation_mlp=activation_mlp)"
   ]
  },
  {
   "cell_type": "code",
   "execution_count": null,
   "metadata": {},
   "outputs": [],
   "source": [
    "features_list = [['q_A', 'q_B', 'x1', 'x2', 'x3', 'x4'],\n",
    "                 ['q_A', 'q_B', 'x1', 'x2', 'x3', 'x4'],\n",
    "                 ['q_A', 'q_B', 'x1', 'x2', 'x3', 'x4'],\n",
    "                 ['q_A', 'q_B', 'x1', 'x2', 'x3', 'x4']\n",
    "                 ]\n",
    "y_names = ['x1', 'x2'\n",
    "           , 'x3', 'x4'\n",
    "           ]\n",
    "model_type = 'statespace'\n",
    "min_vals_list = [np.array([qa_min, qb_min, x_min[0], x_min[1], x_min[2], x_min[3]]),\n",
    "                 np.array([qa_min, qb_min, x_min[0], x_min[1], x_min[2], x_min[3]]),\n",
    "                 np.array([qa_min, qb_min, x_min[0], x_min[1], x_min[2], x_min[3]]),\n",
    "                 np.array([qa_min, qb_min, x_min[0], x_min[1], x_min[2], x_min[3]])\n",
    "                 ]\n",
    "max_vals_lits = [np.array([qa_max, qb_max, x_max[0], x_max[1], x_max[2], x_max[3]]),\n",
    "                 np.array([qa_max, qb_max, x_max[0], x_max[1], x_max[2], x_max[3]]),\n",
    "                 np.array([qa_max, qb_max, x_max[0], x_max[1], x_max[2], x_max[3]]),\n",
    "                 np.array([qa_max, qb_max, x_max[0], x_max[1], x_max[2], x_max[3]])\n",
    "                 ]\n",
    "                 \n",
    "\n",
    "activation_mlp_list=['relu', 'tanh']\n",
    "num_mlp_hidden_layers_list=[1, 2]\n",
    "time_steps_list=[1]\n",
    "recurrent_units_per_layer_list=[8, 16, 24, 32, 48, 64]\n",
    "mlp_units_per_layer_list=[4, 8, 16, 24, 32, 48]\n",
    "\n",
    "for activation_mlp, num_mlp_hidden_layers, time_steps, recurrent_units_per_layer, mlp_units_per_layer in tqdm(product(activation_mlp_list,\n",
    "                                                                                                               num_mlp_hidden_layers_list,\n",
    "                                                                                                              time_steps_list,\n",
    "                                                                                                               recurrent_units_per_layer_list,\n",
    "                                                                                                               mlp_units_per_layer_list),\n",
    "                                                              total=len(recurrent_units_per_layer_list) * len(mlp_units_per_layer_list) * len(num_mlp_hidden_layers_list) * len(time_steps_list) * len(activation_mlp_list),\n",
    "                                                                desc=\"Training Progress\"):\n",
    "    train_and_evaluate_4models(df_train,\n",
    "                            df_val,\n",
    "                            df_test,\n",
    "                            model_class_str,\n",
    "                            y_names,\n",
    "                            features_list,\n",
    "                            model_type,\n",
    "                            time_steps,\n",
    "                            min_vals_list,\n",
    "                            max_vals_lits,\n",
    "                            patience,\n",
    "                            optimizer,\n",
    "                            loss,\n",
    "                            epochs,\n",
    "                            batch_size,\n",
    "                            pred_mode='both',\n",
    "                            recurrent_layer=recurrent_layer,\n",
    "                            num_mlp_hidden_layers=num_mlp_hidden_layers,\n",
    "                            recurrent_units_per_layer=recurrent_units_per_layer,\n",
    "                            mlp_units_per_layer=mlp_units_per_layer,\n",
    "                            activation_mlp=activation_mlp)"
   ]
  }
 ],
 "metadata": {
  "kernelspec": {
   "display_name": "cyber-attk-p39",
   "language": "python",
   "name": "python3"
  },
  "language_info": {
   "codemirror_mode": {
    "name": "ipython",
    "version": 3
   },
   "file_extension": ".py",
   "mimetype": "text/x-python",
   "name": "python",
   "nbconvert_exporter": "python",
   "pygments_lexer": "ipython3",
   "version": "3.9.21"
  }
 },
 "nbformat": 4,
 "nbformat_minor": 2
}
